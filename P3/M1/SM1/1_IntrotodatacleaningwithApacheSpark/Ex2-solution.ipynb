{
 "cells": [
  {
   "cell_type": "markdown",
   "id": "9ac714c0",
   "metadata": {},
   "source": [
    "# Defining a schema\n",
    "\n",
    "- Creating a defined schema helps with data quality and import performance. As mentioned during the lesson, we'll create a simple schema to read in the following columns:\n",
    "> - Name\n",
    "> - Age\n",
    "> - City\n",
    "\n",
    "- The `Name` and `City` columns are `StringType()` and the `Age` column is an `IntegerType()`."
   ]
  },
  {
   "cell_type": "markdown",
   "id": "156667a7",
   "metadata": {},
   "source": [
    "## Instructions\n",
    "\n",
    "- Import * from the `pyspark.sql.types` library.\n",
    "- Define a new schema using the `StructType` method.\n",
    "- Define a `StructField` for `name`, `age`, and `city`. Each field should correspond to the correct datatype and not be nullable."
   ]
  },
  {
   "cell_type": "code",
   "execution_count": 1,
   "id": "0de212f9",
   "metadata": {},
   "outputs": [],
   "source": [
    "# Intialization\n",
    "import os\n",
    "import sys\n",
    "\n",
    "os.environ[\"SPARK_HOME\"] = \"/home/talentum/spark\"\n",
    "os.environ[\"PYLIB\"] = os.environ[\"SPARK_HOME\"] + \"/python/lib\"\n",
    "# In below two lines, use /usr/bin/python2.7 if you want to use Python 2\n",
    "os.environ[\"PYSPARK_PYTHON\"] = \"/usr/bin/python3.6\" \n",
    "os.environ[\"PYSPARK_DRIVER_PYTHON\"] = \"/usr/bin/python3\"\n",
    "sys.path.insert(0, os.environ[\"PYLIB\"] +\"/py4j-0.10.7-src.zip\")\n",
    "sys.path.insert(0, os.environ[\"PYLIB\"] +\"/pyspark.zip\")\n",
    "\n",
    "# NOTE: Whichever package you want mention here.\n",
    "# os.environ['PYSPARK_SUBMIT_ARGS'] = '--packages com.databricks:spark-xml_2.11:0.6.0 pyspark-shell' \n",
    "# os.environ['PYSPARK_SUBMIT_ARGS'] = '--packages org.apache.spark:spark-avro_2.11:2.4.0 pyspark-shell'\n",
    "os.environ['PYSPARK_SUBMIT_ARGS'] = '--packages com.databricks:spark-xml_2.11:0.6.0,org.apache.spark:spark-avro_2.11:2.4.3 pyspark-shell'\n",
    "# os.environ['PYSPARK_SUBMIT_ARGS'] = '--packages com.databricks:spark-xml_2.11:0.6.0,org.apache.spark:spark-avro_2.11:2.4.0 pyspark-shell'"
   ]
  },
  {
   "cell_type": "code",
   "execution_count": 2,
   "id": "cc0b6d9b",
   "metadata": {},
   "outputs": [],
   "source": [
    "#Entrypoint 2.x\n",
    "from pyspark.sql import SparkSession\n",
    "spark = SparkSession.builder.appName(\"Spark SQL basic example\").enableHiveSupport().getOrCreate()\n",
    "\n",
    "# On yarn:\n",
    "# spark = SparkSession.builder.appName(\"Spark SQL basic example\").enableHiveSupport().master(\"yarn\").getOrCreate()\n",
    "# specify .master(\"yarn\")\n",
    "\n",
    "sc = spark.sparkContext"
   ]
  },
  {
   "cell_type": "code",
   "execution_count": 3,
   "id": "ef0ec361",
   "metadata": {},
   "outputs": [],
   "source": [
    "# Import the pyspark.sql.types library\n",
    "from pyspark.sql.types import *\n",
    "\n",
    "# Define a new schema using the StructType method\n",
    "people_schema = StructType([\n",
    "  # Define a StructField for each field\n",
    "  StructField('name', StringType(), False),\n",
    "  StructField('age', IntegerType(), False),\n",
    "  StructField('city', StringType(), False)\n",
    "])\n"
   ]
  },
  {
   "cell_type": "markdown",
   "id": "917b4be8",
   "metadata": {},
   "source": [
    "---"
   ]
  },
  {
   "cell_type": "code",
   "execution_count": 4,
   "id": "592b24b1",
   "metadata": {},
   "outputs": [],
   "source": [
    "file_path = 'file:///home/talentum/test-jupyter/P3/M1/SM1/1_IntrotodatacleaningwithApacheSpark/Dataset/people.csv'\n",
    "\n",
    "people_schema = StructType([\n",
    "  # Define a StructField for each field\n",
    "  StructField('id', IntegerType(), True),\n",
    "  StructField('person_id', IntegerType(), True),\n",
    "  StructField('name', StringType(), True),\n",
    "  StructField('sex', StringType(), True),\n",
    "  StructField('date of birth', DateType(), True)\n",
    "\n",
    "])"
   ]
  },
  {
   "cell_type": "code",
   "execution_count": 5,
   "id": "4ab78f8a",
   "metadata": {},
   "outputs": [],
   "source": [
    "people_df = spark.read.format('csv').option('header', 'true').load(file_path, schema=people_schema)\n"
   ]
  },
  {
   "cell_type": "code",
   "execution_count": 6,
   "id": "a4cc33ed",
   "metadata": {},
   "outputs": [
    {
     "name": "stdout",
     "output_type": "stream",
     "text": [
      "+---+---------+-----------------+------+-------------+\n",
      "| id|person_id|             name|   sex|date of birth|\n",
      "+---+---------+-----------------+------+-------------+\n",
      "|  0|      100|   Penelope Lewis|female|   1990-08-31|\n",
      "|  1|      101|    David Anthony|  male|   1971-10-14|\n",
      "|  2|      102|        Ida Shipp|female|   1962-05-24|\n",
      "|  3|      103|     Joanna Moore|female|   2017-03-10|\n",
      "|  4|      104|   Lisandra Ortiz|female|   2020-08-05|\n",
      "|  5|      105|    David Simmons|  male|   1999-12-30|\n",
      "|  6|      106|    Edward Hudson|  male|   1983-05-09|\n",
      "|  7|      107|     Albert Jones|  male|   1990-09-13|\n",
      "|  8|      108| Leonard Cavender|  male|   1958-08-08|\n",
      "|  9|      109|   Everett Vadala|  male|   2005-05-24|\n",
      "| 10|      110| Freddie Claridge|  male|   2002-05-07|\n",
      "| 11|      111|Annabelle Rosseau|female|   1989-07-13|\n",
      "| 12|      112|    Eulah Emanuel|female|   1976-01-19|\n",
      "| 13|      113|       Shaun Love|  male|   1970-05-26|\n",
      "| 14|      114|Alejandro Brennan|  male|   1980-12-22|\n",
      "| 15|      115|Robert Mcreynolds|  male|   1973-12-27|\n",
      "| 16|      116|   Carla Spickard|female|   1985-06-13|\n",
      "| 17|      117|Florence Eberhart|female|   2024-06-01|\n",
      "| 18|      118|     Tina Gaskins|female|   1966-12-05|\n",
      "| 19|      119| Florence Mulhern|female|   1959-05-31|\n",
      "+---+---------+-----------------+------+-------------+\n",
      "only showing top 20 rows\n",
      "\n"
     ]
    }
   ],
   "source": [
    "people_df.show()"
   ]
  },
  {
   "cell_type": "code",
   "execution_count": 7,
   "id": "27dedaa2",
   "metadata": {},
   "outputs": [],
   "source": [
    "people_df.write.option('header', 'true').csv('file:///home/talentum/people_csv')"
   ]
  },
  {
   "cell_type": "code",
   "execution_count": 14,
   "id": "dbabf0d4",
   "metadata": {},
   "outputs": [
    {
     "name": "stdout",
     "output_type": "stream",
     "text": [
      "+---------+-----------------+------+\n",
      "|person_id|             name|   sex|\n",
      "+---------+-----------------+------+\n",
      "|      100|   Penelope Lewis|female|\n",
      "|      101|    David Anthony|  male|\n",
      "|      102|        Ida Shipp|female|\n",
      "|      103|     Joanna Moore|female|\n",
      "|      104|   Lisandra Ortiz|female|\n",
      "|      105|    David Simmons|  male|\n",
      "|      106|    Edward Hudson|  male|\n",
      "|      107|     Albert Jones|  male|\n",
      "|      108| Leonard Cavender|  male|\n",
      "|      109|   Everett Vadala|  male|\n",
      "|      110| Freddie Claridge|  male|\n",
      "|      111|Annabelle Rosseau|female|\n",
      "|      112|    Eulah Emanuel|female|\n",
      "|      113|       Shaun Love|  male|\n",
      "|      114|Alejandro Brennan|  male|\n",
      "|      115|Robert Mcreynolds|  male|\n",
      "|      116|   Carla Spickard|female|\n",
      "|      117|Florence Eberhart|female|\n",
      "|      118|     Tina Gaskins|female|\n",
      "|      119| Florence Mulhern|female|\n",
      "+---------+-----------------+------+\n",
      "only showing top 20 rows\n",
      "\n"
     ]
    }
   ],
   "source": [
    "file_path = 'file:///home/talentum/people_csv/'\n",
    "\n",
    "people_schema_short = StructType([\n",
    "  StructField('person_id', IntegerType(), True),\n",
    "  StructField('name', StringType(), True),\n",
    "  StructField('sex', StringType(), True),\n",
    "])\n",
    "\n",
    "people_df = spark.read.format('csv').option('header', 'true').load(file_path, schema=people_schema).select('person_id', 'name', 'sex').show()\n"
   ]
  },
  {
   "cell_type": "code",
   "execution_count": null,
   "id": "91207fab",
   "metadata": {},
   "outputs": [],
   "source": []
  }
 ],
 "metadata": {
  "kernelspec": {
   "display_name": "Python 3",
   "language": "python",
   "name": "python3"
  },
  "language_info": {
   "codemirror_mode": {
    "name": "ipython",
    "version": 3
   },
   "file_extension": ".py",
   "mimetype": "text/x-python",
   "name": "python",
   "nbconvert_exporter": "python",
   "pygments_lexer": "ipython3",
   "version": "3.6.9"
  }
 },
 "nbformat": 4,
 "nbformat_minor": 5
}
