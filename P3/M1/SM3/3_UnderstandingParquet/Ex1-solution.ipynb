{
 "cells": [
  {
   "cell_type": "markdown",
   "id": "4fe0ea7f",
   "metadata": {},
   "source": [
    "# Saving a DataFrame in Parquet format\n",
    "\n",
    "- When working with Spark, you'll often start with CSV, JSON, or other data sources. This provides a lot of flexibility for the types of data to load, but it is not an optimal format for Spark. The `Parquet` format is a columnar data store, allowing Spark to use predicate pushdown. This means Spark will only process the data necessary to complete the operations you define versus reading the entire dataset. This gives Spark more flexibility in accessing the data and often drastically improves performance on large datasets.\n",
    "\n",
    "- In this exercise, we're going to practice creating a new Parquet file and then process some data from it.\n",
    "\n",
    "- The `spark` object and the `df1` and `df2` DataFrames have been setup for you."
   ]
  },
  {
   "cell_type": "markdown",
   "id": "de384dd7",
   "metadata": {},
   "source": [
    "## Instructions\n",
    "\n",
    "- View the row count of `df1` and `df2`.\n",
    "- Combine `df1` and `df2` in a new DataFrame named `df3` with the `union` method.\n",
    "- Save `df3` to a parquet file named `AA_DFW_ALL.parquet`.\n",
    "- Read the `AA_DFW_ALL.parquet` file and show the count."
   ]
  },
  {
   "cell_type": "code",
   "execution_count": 1,
   "id": "0de212f9",
   "metadata": {},
   "outputs": [],
   "source": [
    "# Intialization\n",
    "import os\n",
    "import sys\n",
    "\n",
    "os.environ[\"SPARK_HOME\"] = \"/home/talentum/spark\"\n",
    "os.environ[\"PYLIB\"] = os.environ[\"SPARK_HOME\"] + \"/python/lib\"\n",
    "# In below two lines, use /usr/bin/python2.7 if you want to use Python 2\n",
    "os.environ[\"PYSPARK_PYTHON\"] = \"/usr/bin/python3.6\" \n",
    "os.environ[\"PYSPARK_DRIVER_PYTHON\"] = \"/usr/bin/python3\"\n",
    "sys.path.insert(0, os.environ[\"PYLIB\"] +\"/py4j-0.10.7-src.zip\")\n",
    "sys.path.insert(0, os.environ[\"PYLIB\"] +\"/pyspark.zip\")\n",
    "\n",
    "# NOTE: Whichever package you want mention here.\n",
    "# os.environ['PYSPARK_SUBMIT_ARGS'] = '--packages com.databricks:spark-xml_2.11:0.6.0 pyspark-shell' \n",
    "# os.environ['PYSPARK_SUBMIT_ARGS'] = '--packages org.apache.spark:spark-avro_2.11:2.4.0 pyspark-shell'\n",
    "os.environ['PYSPARK_SUBMIT_ARGS'] = '--packages com.databricks:spark-xml_2.11:0.6.0,org.apache.spark:spark-avro_2.11:2.4.3 pyspark-shell'\n",
    "# os.environ['PYSPARK_SUBMIT_ARGS'] = '--packages com.databricks:spark-xml_2.11:0.6.0,org.apache.spark:spark-avro_2.11:2.4.0 pyspark-shell'"
   ]
  },
  {
   "cell_type": "code",
   "execution_count": 2,
   "id": "cc0b6d9b",
   "metadata": {},
   "outputs": [],
   "source": [
    "#Entrypoint 2.x\n",
    "from pyspark.sql import SparkSession\n",
    "spark = SparkSession.builder.appName(\"Spark SQL basic example\").enableHiveSupport().getOrCreate()\n",
    "\n",
    "# On yarn:\n",
    "# spark = SparkSession.builder.appName(\"Spark SQL basic example\").enableHiveSupport().master(\"yarn\").getOrCreate()\n",
    "# specify .master(\"yarn\")\n",
    "\n",
    "sc = spark.sparkContext"
   ]
  },
  {
   "cell_type": "code",
   "execution_count": 3,
   "id": "f8b2d52e",
   "metadata": {},
   "outputs": [
    {
     "name": "stdout",
     "output_type": "stream",
     "text": [
      "/home/talentum/test-jupyter/P3/M1/SM3/3_UnderstandingParquet\r\n"
     ]
    }
   ],
   "source": [
    "!pwd"
   ]
  },
  {
   "cell_type": "code",
   "execution_count": 15,
   "id": "ef0ec361",
   "metadata": {
    "scrolled": false
   },
   "outputs": [
    {
     "name": "stdout",
     "output_type": "stream",
     "text": [
      "df1 Count: 139359\n",
      "df2 Count: 119911\n",
      "New DataFrame : 259270\n"
     ]
    }
   ],
   "source": [
    "df1 = spark.read.format('csv').load('file:///home/talentum/test-jupyter/P3/M1/SM3/3_UnderstandingParquet/Dataset/AA_DFW_2017_Departures_Short.csv.gz') # AA_DFW_2017_Departures_Short.csv\n",
    "df2 = spark.read.format('csv').load('file:///home/talentum/test-jupyter/P3/M1/SM3/3_UnderstandingParquet/Dataset/AA_DFW_2018_Departures_Short.csv.gz') # AA_DFW_2018_Departures_Short.csv\n",
    "\n",
    "# View the row count of df1 and df2\n",
    "print(\"df1 Count: %d\" % df1.count())\n",
    "print(\"df2 Count: %d\" % df2.count())\n",
    "\n",
    "# Combine the DataFrames into one\n",
    "df3 = df1.union(df2)\n",
    "df3 = df3.withColumnRenamed('_c3', 'flight_duration')\n",
    "\n",
    "# Save location \n",
    "save_path = 'file:///home/talentum/parquet_temp'\n",
    "\n",
    "# Save the df3 DataFrame in Parquet format\n",
    "df3.write.parquet(f'{save_path}/AA_DFW_ALL.parquet', mode='overwrite')\n",
    "\n",
    "# # Read the Parquet file into a new DataFrame and run a count\n",
    "print('New DataFrame :',spark.read.parquet(f'{save_path}/AA_DFW_ALL.parquet').count())\n",
    "\n"
   ]
  },
  {
   "cell_type": "code",
   "execution_count": 1,
   "id": "0038fab7",
   "metadata": {},
   "outputs": [
    {
     "name": "stdout",
     "output_type": "stream",
     "text": [
      "total 1.2M\n",
      "-rwxrwx--- 1 talentum talentum 613K Jan  4 17:21 AA_DFW_2017_Departures_Short.csv.gz\n",
      "-rwxrwx--- 1 talentum talentum 528K Jan  4 17:21 AA_DFW_2018_Departures_Short.csv.gz\n",
      "total 524K\n",
      "-rw-r--r-- 1 talentum talentum 262K Jan  4 17:53 part-00000-622d4b2f-90cd-4599-b51e-123bc3dcd3ab-c000.snappy.parquet\n",
      "-rw-r--r-- 1 talentum talentum 259K Jan  4 17:53 part-00001-622d4b2f-90cd-4599-b51e-123bc3dcd3ab-c000.snappy.parquet\n",
      "-rw-r--r-- 1 talentum talentum    0 Jan  4 17:53 _SUCCESS\n"
     ]
    }
   ],
   "source": [
    "# look the size of both file here\n",
    "!ls ./Dataset -lh    \n",
    "\n",
    "# look the size of new file here\n",
    "!ls ~/parquet_temp/AA_DFW_ALL.parquet -lh"
   ]
  },
  {
   "cell_type": "code",
   "execution_count": null,
   "id": "00b3d9ce",
   "metadata": {},
   "outputs": [],
   "source": []
  }
 ],
 "metadata": {
  "kernelspec": {
   "display_name": "Python 3",
   "language": "python",
   "name": "python3"
  },
  "language_info": {
   "codemirror_mode": {
    "name": "ipython",
    "version": 3
   },
   "file_extension": ".py",
   "mimetype": "text/x-python",
   "name": "python",
   "nbconvert_exporter": "python",
   "pygments_lexer": "ipython3",
   "version": "3.6.9"
  }
 },
 "nbformat": 4,
 "nbformat_minor": 5
}
