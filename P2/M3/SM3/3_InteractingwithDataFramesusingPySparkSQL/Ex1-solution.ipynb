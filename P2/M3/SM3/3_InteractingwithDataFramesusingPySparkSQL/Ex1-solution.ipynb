{
 "cells": [
  {
   "cell_type": "markdown",
   "id": "da666a39",
   "metadata": {},
   "source": [
    "# Running SQL Queries Programmatically\n",
    "\n",
    "- DataFrames can easily be manipulated using SQL queries in PySpark. The `sql()` function on a SparkSession enables applications to run SQL queries programmatically and returns the result as another DataFrame. In this exercise, you'll create a temporary table of the `people_df` DataFrame that you created previously, then construct a query to select the names of the people from the temporary table and assign the result to a new DataFrame.\n",
    "\n",
    "- Remember, you already have `SparkSession` `spark` and `people_df` DataFrame available in your workspace."
   ]
  },
  {
   "cell_type": "markdown",
   "id": "76908f86",
   "metadata": {},
   "source": [
    "## Instructions\n",
    "\n",
    "- Create a temporary table `people` that's a pointer to the `people_df` DataFrame.\n",
    "- Construct a query to select the names of the people from the temporary table `people`.\n",
    "- Assign the result of Spark's query to a new DataFrame - `people_df_names`.\n",
    "- Print the top 10 names of the people from `people_df_names` DataFrame."
   ]
  },
  {
   "cell_type": "code",
   "execution_count": 1,
   "id": "0de212f9",
   "metadata": {},
   "outputs": [],
   "source": [
    "# Intialization\n",
    "import os\n",
    "import sys\n",
    "\n",
    "os.environ[\"SPARK_HOME\"] = \"/home/talentum/spark\"\n",
    "os.environ[\"PYLIB\"] = os.environ[\"SPARK_HOME\"] + \"/python/lib\"\n",
    "# In below two lines, use /usr/bin/python2.7 if you want to use Python 2\n",
    "os.environ[\"PYSPARK_PYTHON\"] = \"/usr/bin/python3.6\" \n",
    "os.environ[\"PYSPARK_DRIVER_PYTHON\"] = \"/usr/bin/python3\"\n",
    "sys.path.insert(0, os.environ[\"PYLIB\"] +\"/py4j-0.10.7-src.zip\")\n",
    "sys.path.insert(0, os.environ[\"PYLIB\"] +\"/pyspark.zip\")\n",
    "\n",
    "# NOTE: Whichever package you want mention here.\n",
    "# os.environ['PYSPARK_SUBMIT_ARGS'] = '--packages com.databricks:spark-xml_2.11:0.6.0 pyspark-shell' \n",
    "# os.environ['PYSPARK_SUBMIT_ARGS'] = '--packages org.apache.spark:spark-avro_2.11:2.4.0 pyspark-shell'\n",
    "os.environ['PYSPARK_SUBMIT_ARGS'] = '--packages com.databricks:spark-xml_2.11:0.6.0,org.apache.spark:spark-avro_2.11:2.4.3 pyspark-shell'\n",
    "# os.environ['PYSPARK_SUBMIT_ARGS'] = '--packages com.databricks:spark-xml_2.11:0.6.0,org.apache.spark:spark-avro_2.11:2.4.0 pyspark-shell'"
   ]
  },
  {
   "cell_type": "code",
   "execution_count": 2,
   "id": "cc0b6d9b",
   "metadata": {},
   "outputs": [],
   "source": [
    "#Entrypoint 2.x\n",
    "from pyspark.sql import SparkSession\n",
    "spark = SparkSession.builder.appName(\"Spark SQL basic example\").enableHiveSupport().getOrCreate()\n",
    "\n",
    "# On yarn:\n",
    "# spark = SparkSession.builder.appName(\"Spark SQL basic example\").enableHiveSupport().master(\"yarn\").getOrCreate()\n",
    "# specify .master(\"yarn\")\n",
    "\n",
    "sc = spark.sparkContext"
   ]
  },
  {
   "cell_type": "code",
   "execution_count": 3,
   "id": "833b909b",
   "metadata": {},
   "outputs": [
    {
     "name": "stdout",
     "output_type": "stream",
     "text": [
      "/home/talentum/test-jupyter/P2/M3/SM3/3_InteractingwithDataFramesusingPySparkSQL\r\n"
     ]
    }
   ],
   "source": [
    "!pwd"
   ]
  },
  {
   "cell_type": "code",
   "execution_count": 5,
   "id": "6bffaece",
   "metadata": {},
   "outputs": [
    {
     "data": {
      "text/plain": [
       "[Row(name='Penelope Lewis'),\n",
       " Row(name='David Anthony'),\n",
       " Row(name='Ida Shipp'),\n",
       " Row(name='Joanna Moore'),\n",
       " Row(name='Lisandra Ortiz'),\n",
       " Row(name='David Simmons'),\n",
       " Row(name='Edward Hudson'),\n",
       " Row(name='Albert Jones'),\n",
       " Row(name='Leonard Cavender'),\n",
       " Row(name='Everett Vadala')]"
      ]
     },
     "execution_count": 5,
     "metadata": {},
     "output_type": "execute_result"
    }
   ],
   "source": [
    "file_path = \"file:///home/talentum/test-jupyter/P2/M3/SM3/3_InteractingwithDataFramesusingPySparkSQL/Dataset/people.csv\"\n",
    "\n",
    "# Create an DataFrame from file_path\n",
    "people_df = spark.read.csv(file_path, header=True, inferSchema=True)\n",
    "\n",
    "# Create a temporary table \"people\"\n",
    "people_df.createOrReplaceTempView(\"people\")\n",
    "\n",
    "# Construct a query to select the names of the people from the temporary table \"people\"\n",
    "query = '''SELECT name FROM people'''\n",
    "\n",
    "# Assign the result of Spark's query to people_df_names\n",
    "people_df_names = spark.sql(query)\n",
    "\n",
    "# Print the top 10 names of the people\n",
    "people_df_names.take(10)\n"
   ]
  },
  {
   "cell_type": "markdown",
   "id": "438a674e",
   "metadata": {},
   "source": [
    "Necessar to Run`Hadoop` and `Hieve` before running sql in pyspark by doing:\n",
    "\n",
    "**jsp** command will show files for Hadoop\n",
    "- Haddop\n",
    "    - HDFS\n",
    "        - NameNode\n",
    "        - DataNode\n",
    "        - SecondaryNameNode\n",
    "    - YARN\n",
    "        - ResourceManager\n",
    "        - NodeManager\n",
    "   \n",
    "---\n",
    "\n",
    "```shell\n",
    "talentum@talentum-virtual-machine:~$ cat ./Start-Hadoop-Hive.sh \n",
    "#!/bin/bash\n",
    "\n",
    "# Author: Hitesh\n",
    "# This script starts the HiveMetastore service, Hadoop services (Hdfs and YARN)\n",
    "# Prerequisit is that this file should be in same directory as that of run-hdfs.sh & run-yarn.sh\n",
    "# It aslo creates home directory for Hadoop at /user/talentum/ as well as Hive warehouse.\n",
    "\n",
    "[ -d \"/tmp/hadoop-talentum/dfs/data/current\" ] && rm -r /tmp/hadoop-talentum/dfs/data/current\n",
    "\n",
    "[ -d \"/tmp/hadoop-talentum/dfs/name/current\" ] && rm -r /tmp/hadoop-talentum/dfs/name/current\n",
    "\n",
    "[ -d \"/tmp/hadoop-talentum/dfs/namesecondary/current\" ] && rm -r /tmp/hadoop-talentum/dfs/namesecondary/current\n",
    "\n",
    "hdfs namenode -format\n",
    "\n",
    "./run-hdfs.sh -s start\n",
    "echo \"-----Running HDFS-----\"\n",
    "\n",
    "./run-yarn.sh -s start\n",
    "echo \"-----Running YARN-----\"\n",
    "echo \"-----Running HADOOP-----\"\n",
    "\n",
    "hdfs dfs -mkdir -p /user/talentum/\n",
    "\n",
    "hdfs dfs -mkdir -p /user/hive/warehouse/\n",
    "\n",
    "echo \"-----Running Hive-----\"\n",
    "./run-hivemetastore.sh -s start&>/dev/null\n",
    "\n",
    "jps\n",
    "talentum@talentum-virtual-machine:~$ cat Stop-Hadoop-Hive.sh \n",
    "#!/bin/bash\n",
    "\n",
    "# Author: Hitesh\n",
    "# This script stops, HiveMetastore service, Hadoop services (Hdfs and YARN)\n",
    "# Prerequisit is that this file should be in same directory as that of run-hdfs.sh & run-yarn.sh & run-hivemetastore.sh\n",
    "\n",
    "./run-hivemetastore.sh -s stop\n",
    "echo \"-----Hive Stopped-----\"\n",
    "\n",
    "./run-yarn.sh -s stop\n",
    "echo \"-----YARN Stopped-----\"\n",
    "\n",
    "./run-hdfs.sh -s stop\n",
    "echo \"-----HDFS Stopped-----\"\n",
    "echo \"-----HADOOP Stopped-----\"\n",
    "\n",
    "jps\n",
    "\n",
    "talentum@talentum-virtual-machine:~$ source ./St\n",
    "Start-Hadoop-Hive.sh  Stop-Hadoop-Hive.sh   \n",
    "talentum@talentum-virtual-machine:~$ source ./Start-Hadoop-Hive.sh  \n",
    "talentum@talentum-virtual-machine:~$ source ./Stop-Hadoop-Hive.sh ht\n",
    "```"
   ]
  }
 ],
 "metadata": {
  "kernelspec": {
   "display_name": "Python 3",
   "language": "python",
   "name": "python3"
  },
  "language_info": {
   "codemirror_mode": {
    "name": "ipython",
    "version": 3
   },
   "file_extension": ".py",
   "mimetype": "text/x-python",
   "name": "python",
   "nbconvert_exporter": "python",
   "pygments_lexer": "ipython3",
   "version": "3.6.9"
  }
 },
 "nbformat": 4,
 "nbformat_minor": 5
}
