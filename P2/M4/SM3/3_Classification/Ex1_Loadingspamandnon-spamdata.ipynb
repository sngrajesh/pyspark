{
 "cells": [
  {
   "cell_type": "markdown",
   "id": "e515c17d",
   "metadata": {},
   "source": [
    "# Loading spam and non-spam data\n",
    "\n",
    "- Logistic Regression is a popular method to predict a categorical response. Probably one of the most common applications of the logistic regression is the message or email spam classification. In this 3-part exercise, you'll create an email spam classifier with logistic regression using Spark MLlib. Here are the brief steps for creating a spam classifier.\n",
    "\n",
    "> - Create an RDD of strings representing email.\n",
    "> - Run MLlib’s feature extraction algorithms to convert text into an RDD of vectors.\n",
    "> - Call a classification algorithm on the RDD of vectors to return a model object to classify new points.\n",
    "> - Evaluate the model on a test dataset using one of MLlib’s evaluation functions.\n",
    "\n",
    "- In the first part of the exercise, you'll load the `'spam'` and `'ham'` (`non-spam`) files into RDDs, split the emails into individual words and look at the first element in each of the RDD.\n",
    "\n",
    "- Remember, you have a SparkContext `sc` available in your workspace. Also `file_path_spam` variable (which is the path to the 'spam' file) and `file_path_non_spam` (which is the path to the 'non-spam' file) is already available in your workspace."
   ]
  },
  {
   "cell_type": "markdown",
   "id": "5139759d",
   "metadata": {},
   "source": [
    "## Instructions\n",
    "\n",
    "- Create two RDDS, one for 'spam' and one for 'non-spam (ham)'.\n",
    "- Split each email in 'spam' and 'non-spam' RDDs into words.\n",
    "- Print the first element in the split RDD of both 'spam' and 'non-spam'."
   ]
  },
  {
   "cell_type": "code",
   "execution_count": 1,
   "id": "0de212f9",
   "metadata": {},
   "outputs": [],
   "source": [
    "# Intialization\n",
    "import os\n",
    "import sys\n",
    "\n",
    "os.environ[\"SPARK_HOME\"] = \"/home/talentum/spark\"\n",
    "os.environ[\"PYLIB\"] = os.environ[\"SPARK_HOME\"] + \"/python/lib\"\n",
    "# In below two lines, use /usr/bin/python2.7 if you want to use Python 2\n",
    "os.environ[\"PYSPARK_PYTHON\"] = \"/usr/bin/python3.6\" \n",
    "os.environ[\"PYSPARK_DRIVER_PYTHON\"] = \"/usr/bin/python3\"\n",
    "sys.path.insert(0, os.environ[\"PYLIB\"] +\"/py4j-0.10.7-src.zip\")\n",
    "sys.path.insert(0, os.environ[\"PYLIB\"] +\"/pyspark.zip\")\n",
    "\n",
    "# NOTE: Whichever package you want mention here.\n",
    "# os.environ['PYSPARK_SUBMIT_ARGS'] = '--packages com.databricks:spark-xml_2.11:0.6.0 pyspark-shell' \n",
    "# os.environ['PYSPARK_SUBMIT_ARGS'] = '--packages org.apache.spark:spark-avro_2.11:2.4.0 pyspark-shell'\n",
    "os.environ['PYSPARK_SUBMIT_ARGS'] = '--packages com.databricks:spark-xml_2.11:0.6.0,org.apache.spark:spark-avro_2.11:2.4.3 pyspark-shell'\n",
    "# os.environ['PYSPARK_SUBMIT_ARGS'] = '--packages com.databricks:spark-xml_2.11:0.6.0,org.apache.spark:spark-avro_2.11:2.4.0 pyspark-shell'"
   ]
  },
  {
   "cell_type": "code",
   "execution_count": 2,
   "id": "cc0b6d9b",
   "metadata": {},
   "outputs": [],
   "source": [
    "#Entrypoint 2.x\n",
    "from pyspark.sql import SparkSession\n",
    "spark = SparkSession.builder.appName(\"Spark SQL basic example\").enableHiveSupport().getOrCreate()\n",
    "\n",
    "# On yarn:\n",
    "# spark = SparkSession.builder.appName(\"Spark SQL basic example\").enableHiveSupport().master(\"yarn\").getOrCreate()\n",
    "# specify .master(\"yarn\")\n",
    "\n",
    "sc = spark.sparkContext"
   ]
  },
  {
   "cell_type": "code",
   "execution_count": null,
   "id": "ef0ec361",
   "metadata": {},
   "outputs": [],
   "source": [
    "file_path_spam = \"file://<pwd>/Dataset/spam.txt\"\n",
    "file_path_non_spam = \"file://<pwd>/Dataset/ham.txt\"\n",
    "\n",
    "\n",
    "# Load the datasets into RDDs\n",
    "spam_rdd = sc.____(file_path_spam)\n",
    "non_spam_rdd = sc.____(file_path_non_spam)\n",
    "\n",
    "# Split the email messages into words\n",
    "spam_words = spam_rdd.____(lambda email: email.split(' '))\n",
    "non_spam_words = non_spam_rdd.____(lambda email: ____.____(' '))\n",
    "\n",
    "# Print the first element in the split RDD\n",
    "print(\"The first element in spam_words is\", spam_words.____())\n",
    "print(\"The first element in non_spam_words is\", ____.____())"
   ]
  }
 ],
 "metadata": {
  "kernelspec": {
   "display_name": "Python 3",
   "language": "python",
   "name": "python3"
  },
  "language_info": {
   "codemirror_mode": {
    "name": "ipython",
    "version": 3
   },
   "file_extension": ".py",
   "mimetype": "text/x-python",
   "name": "python",
   "nbconvert_exporter": "python",
   "pygments_lexer": "ipython3",
   "version": "3.6.9"
  }
 },
 "nbformat": 4,
 "nbformat_minor": 5
}
