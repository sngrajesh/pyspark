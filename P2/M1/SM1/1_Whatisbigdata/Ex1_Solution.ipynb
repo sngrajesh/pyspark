{
 "cells": [
  {
   "cell_type": "markdown",
   "id": "a556cf56",
   "metadata": {},
   "source": [
    "# Ex1 - The 3 V's of Big Data\n",
    "- Which of the following is NOT considered as one of the three Vs of Big Data?\n",
    "\n",
    "## Answer the Question\n",
    "\n",
    "### Possible Answers\n",
    "- A) Volume\n",
    "- B) Velocity\n",
    "- C) Variation\n",
    "- D) Variety\n"
   ]
  },
  {
   "cell_type": "markdown",
   "id": "d75485af",
   "metadata": {},
   "source": [
    "#### Answer\n",
    "C) Variation"
   ]
  },
  {
   "cell_type": "markdown",
   "id": "a385a0ec",
   "metadata": {},
   "source": [
    "### Setup Pyspark Shell also called as `REPL` (Read Evaluate Print Loop)\n",
    "\n",
    "Pyspark Core -> Resilient Distributed Dataset"
   ]
  },
  {
   "cell_type": "markdown",
   "id": "cb522bd2",
   "metadata": {},
   "source": [
    "```shell\n",
    "talentum@talentum-virtual-machine:~/test-jupyter$ cd ~\n",
    "talentum@talentum-virtual-machine:~$ gedit unset_jupyter.sh\n",
    "talentum@talentum-virtual-machine:~$ ^C\n",
    "talentum@talentum-virtual-machine:~$ ^C\n",
    "talentum@talentum-virtual-machine:~$ cat unset_jupyter.sh\n",
    "#!/bin/bash\n",
    "\n",
    "unset PYSPARK_DRIVER_PYTHON\n",
    "unset PYSPARK_DRIVER_PYTHON_OPTS\n",
    "talentum@talentum-virtual-machine:~$ source ./unset_jupyter.sh \n",
    "talentum@talentum-virtual-machine:~$ pyspark\n",
    "  File \"/usr/lib/python3.6/site.py\", line 183\n",
    "    file=sys.stderr)\n",
    "        ^\n",
    "SyntaxError: invalid syntax\n",
    "Python 3.6.9 (default, Mar 10 2023, 16:46:00) \n",
    "[GCC 8.4.0] on linux\n",
    "Type \"help\", \"copyright\", \"credits\" or \"license\" for more information.\n",
    "25/01/01 23:45:30 WARN util.Utils: Your hostname, talentum-virtual-machine resolves to a loopback address: 127.0.1.1; using 10.0.2.15 instead (on interface enp0s17)\n",
    "25/01/01 23:45:30 WARN util.Utils: Set SPARK_LOCAL_IP if you need to bind to another address\n",
    "25/01/01 23:45:32 WARN util.NativeCodeLoader: Unable to load native-hadoop library for your platform... using builtin-java classes where applicable\n",
    "Setting default log level to \"WARN\".\n",
    "To adjust logging level use sc.setLogLevel(newLevel). For SparkR, use setLogLevel(newLevel).\n",
    "Welcome to\n",
    "      ____              __\n",
    "     / __/__  ___ _____/ /__\n",
    "    _\\ \\/ _ \\/ _ `/ __/  '_/\n",
    "   /__ / .__/\\_,_/_/ /_/\\_\\   version 2.4.5\n",
    "      /_/\n",
    "\n",
    "Using Python version 3.6.9 (default, Mar 10 2023 16:46:00)\n",
    "SparkSession available as 'spark'.\n",
    ">>> rdd = sc.parallelize([1,2,3,4,5])    # Simple pyspark opetation i.e. loading the data\n",
    ">>> rdd.collect()\n",
    "[Stage 0:>                                                          (0 + 1) /                                                                             [1, 2, 3, 4, 5]\n",
    ">>> sc.version                           # check spark version \n",
    "'2.4.5'\n",
    ">>> sc.pythonVer                         # check python version used in pyspark\n",
    "'3.6'\n",
    ">>> sc.master                            # check spark is working on local or global mode\n",
    "'local[*]'\n",
    ">>> type(sc)\n",
    "<class 'pyspark.context.SparkContext'>\n",
    ">>> rdd = sc.parallelize([1,2,3,4,5]) \n",
    ">>> type(rdd)\n",
    "<class 'pyspark.rdd.RDD'>\n",
    ">>> rdd2 = sc.textFile(\"file:///home/talentum/test.txt\")\n",
    ">>> type(rdd2)\n",
    "<class 'pyspark.rdd.RDD'>\n",
    ">>> rdd2.collect()\n",
    "['Hello spaek', 'Hello Pyspark']\n",
    ">>> rdd2.count()\n",
    "2\n",
    ">>> rdd3 = sc.textFile(\"file:///home/talentum/spark/README.md\")  # ~terminal: wc -l spark/README.md\n",
    ">>> rdd3.count()\n",
    "104\n",
    "\n",
    ">>> quit()                               # exitting the shell\n",
    "```"
   ]
  }
 ],
 "metadata": {
  "kernelspec": {
   "display_name": "Python 3",
   "language": "python",
   "name": "python3"
  },
  "language_info": {
   "codemirror_mode": {
    "name": "ipython",
    "version": 3
   },
   "file_extension": ".py",
   "mimetype": "text/x-python",
   "name": "python",
   "nbconvert_exporter": "python",
   "pygments_lexer": "ipython3",
   "version": "3.6.9"
  }
 },
 "nbformat": 4,
 "nbformat_minor": 5
}
