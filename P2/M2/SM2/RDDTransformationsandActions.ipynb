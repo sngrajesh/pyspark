{
 "cells": [
  {
   "cell_type": "code",
   "execution_count": 1,
   "id": "27459b88",
   "metadata": {},
   "outputs": [],
   "source": [
    "# Intialization\n",
    "import os\n",
    "import sys\n",
    "\n",
    "os.environ[\"SPARK_HOME\"] = \"/home/talentum/spark\"\n",
    "os.environ[\"PYLIB\"] = os.environ[\"SPARK_HOME\"] + \"/python/lib\"\n",
    "# In below two lines, use /usr/bin/python2.7 if you want to use Python 2\n",
    "os.environ[\"PYSPARK_PYTHON\"] = \"/usr/bin/python3.6\" \n",
    "os.environ[\"PYSPARK_DRIVER_PYTHON\"] = \"/usr/bin/python3\"\n",
    "sys.path.insert(0, os.environ[\"PYLIB\"] +\"/py4j-0.10.7-src.zip\")\n",
    "sys.path.insert(0, os.environ[\"PYLIB\"] +\"/pyspark.zip\")\n",
    "\n",
    "# NOTE: Whichever package you want mention here.\n",
    "# os.environ['PYSPARK_SUBMIT_ARGS'] = '--packages com.databricks:spark-xml_2.11:0.6.0 pyspark-shell' \n",
    "# os.environ['PYSPARK_SUBMIT_ARGS'] = '--packages org.apache.spark:spark-avro_2.11:2.4.0 pyspark-shell'\n",
    "os.environ['PYSPARK_SUBMIT_ARGS'] = '--packages com.databricks:spark-xml_2.11:0.6.0,org.apache.spark:spark-avro_2.11:2.4.3 pyspark-shell'\n",
    "# os.environ['PYSPARK_SUBMIT_ARGS'] = '--packages com.databricks:spark-xml_2.11:0.6.0,org.apache.spark:spark-avro_2.11:2.4.0 pyspark-shell'"
   ]
  },
  {
   "cell_type": "code",
   "execution_count": 2,
   "id": "518b06b0",
   "metadata": {},
   "outputs": [],
   "source": [
    "#Entrypoint 2.x\n",
    "from pyspark.sql import SparkSession\n",
    "spark = SparkSession.builder.appName(\"Spark SQL basic example\").enableHiveSupport().getOrCreate()\n",
    "\n",
    "# On yarn:\n",
    "# spark = SparkSession.builder.appName(\"Spark SQL basic example\").enableHiveSupport().master(\"yarn\").getOrCreate()\n",
    "# specify .master(\"yarn\")\n",
    "\n",
    "sc = spark.sparkContext"
   ]
  },
  {
   "cell_type": "markdown",
   "id": "6546846f",
   "metadata": {},
   "source": [
    "$$\\Large\\text{Code}$$"
   ]
  },
  {
   "cell_type": "code",
   "execution_count": 12,
   "id": "12f7d4e2",
   "metadata": {},
   "outputs": [],
   "source": [
    "import re"
   ]
  },
  {
   "cell_type": "code",
   "execution_count": 13,
   "id": "4ec8db7e",
   "metadata": {},
   "outputs": [
    {
     "name": "stdout",
     "output_type": "stream",
     "text": [
      "hadoop-hdfs-datanode-node.log  hadoop-hdfs-namenode-node.log\r\n"
     ]
    }
   ],
   "source": [
    "!ls ~/test-jupyter/P2/M2/SM2/logs"
   ]
  },
  {
   "cell_type": "code",
   "execution_count": 14,
   "id": "7652f694",
   "metadata": {},
   "outputs": [],
   "source": [
    "file_path1 = 'file:////home/talentum/test-jupyter/P2/M2/SM2/logs/hadoop-hdfs-datanode-node.log'\n",
    "file_path2 = 'file:////home/talentum/test-jupyter/P2/M2/SM2/logs/hadoop-hdfs-namenode-node.log' "
   ]
  },
  {
   "cell_type": "code",
   "execution_count": 15,
   "id": "6de041da",
   "metadata": {},
   "outputs": [],
   "source": [
    "def get_errors(file_path1, file_path2, timestamp_pattern=''):\n",
    "    fileRDD = sc.textFile(file_path1).union(sc.textFile(file_path2))\n",
    "    \n",
    "    # lines with error and UnknownHostException in them\n",
    "    fileRDD_filter_error_1 = fileRDD.filter(lambda line: (('ERROR' in line) or ('error' in line)) and 'UnknownHostException' in line)\n",
    "    \n",
    "    # lines with timestamp_patther\n",
    "    fileRDD_filter_error_2 = fileRDD_filter_error_1.filter(lambda line: re.match(timestamp_pattern, line))\n",
    "\n",
    "    print(\"The total number of lines with the keyword error is\", fileRDD_filter_error_2.count())\n",
    "\n",
    "    print('\\n\\nLines with error:')\n",
    "    for line in fileRDD_filter_error_2.collect():\n",
    "        print(line)"
   ]
  },
  {
   "cell_type": "code",
   "execution_count": 16,
   "id": "30c91799",
   "metadata": {
    "scrolled": false
   },
   "outputs": [
    {
     "name": "stdout",
     "output_type": "stream",
     "text": [
      "The total number of lines with the keyword error is 4\n",
      "\n",
      "\n",
      "Lines with error:\n",
      "2012-10-15 08:11:07,074 ERROR org.apache.hadoop.metrics2.sink.ganglia.GangliaSink31: java.net.UnknownHostException: node: node\n",
      "2012-10-15 08:11:48,113 ERROR org.apache.hadoop.hdfs.server.datanode.DataNode: java.net.UnknownHostException: node: node\n",
      "2012-10-15 08:11:07,069 ERROR org.apache.hadoop.metrics2.sink.ganglia.GangliaSink31: java.net.UnknownHostException: node: node\n",
      "2012-10-15 08:11:49,328 ERROR org.apache.hadoop.hdfs.server.namenode.NameNode: java.net.UnknownHostException: Invalid hostname for server: node\n"
     ]
    }
   ],
   "source": [
    "timestamp_pattern = r'2012-10-15 08:(1[0-5])'\n",
    "get_errors(file_path1,file_path2, timestamp_pattern)"
   ]
  }
 ],
 "metadata": {
  "kernelspec": {
   "display_name": "Python 3",
   "language": "python",
   "name": "python3"
  },
  "language_info": {
   "codemirror_mode": {
    "name": "ipython",
    "version": 3
   },
   "file_extension": ".py",
   "mimetype": "text/x-python",
   "name": "python",
   "nbconvert_exporter": "python",
   "pygments_lexer": "ipython3",
   "version": "3.6.9"
  }
 },
 "nbformat": 4,
 "nbformat_minor": 5
}
