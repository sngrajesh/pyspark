{
 "cells": [
  {
   "cell_type": "code",
   "execution_count": 1,
   "id": "ae974e19",
   "metadata": {},
   "outputs": [],
   "source": [
    "# Intialization\n",
    "import os\n",
    "import sys\n",
    "\n",
    "os.environ[\"SPARK_HOME\"] = \"/home/talentum/spark\"\n",
    "os.environ[\"PYLIB\"] = os.environ[\"SPARK_HOME\"] + \"/python/lib\"\n",
    "# In below two lines, use /usr/bin/python2.7 if you want to use Python 2\n",
    "os.environ[\"PYSPARK_PYTHON\"] = \"/usr/bin/python3.6\" \n",
    "os.environ[\"PYSPARK_DRIVER_PYTHON\"] = \"/usr/bin/python3\"\n",
    "sys.path.insert(0, os.environ[\"PYLIB\"] +\"/py4j-0.10.7-src.zip\")\n",
    "sys.path.insert(0, os.environ[\"PYLIB\"] +\"/pyspark.zip\")\n",
    "\n",
    "# NOTE: Whichever package you want mention here.\n",
    "# os.environ['PYSPARK_SUBMIT_ARGS'] = '--packages com.databricks:spark-xml_2.11:0.6.0 pyspark-shell' \n",
    "# os.environ['PYSPARK_SUBMIT_ARGS'] = '--packages org.apache.spark:spark-avro_2.11:2.4.0 pyspark-shell'\n",
    "os.environ['PYSPARK_SUBMIT_ARGS'] = '--packages com.databricks:spark-xml_2.11:0.6.0,org.apache.spark:spark-avro_2.11:2.4.3 pyspark-shell'\n",
    "# os.environ['PYSPARK_SUBMIT_ARGS'] = '--packages com.databricks:spark-xml_2.11:0.6.0,org.apache.spark:spark-avro_2.11:2.4.0 pyspark-shell'\n"
   ]
  },
  {
   "cell_type": "code",
   "execution_count": 2,
   "id": "f62f18ea",
   "metadata": {},
   "outputs": [],
   "source": [
    "from pyspark.sql import SparkSession\n",
    "spark = SparkSession.builder.appName(\"Spark SQL basic example\").enableHiveSupport().getOrCreate()\n",
    "\n",
    "sc = spark.sparkContext"
   ]
  },
  {
   "cell_type": "code",
   "execution_count": 3,
   "id": "f6271d75",
   "metadata": {},
   "outputs": [],
   "source": [
    "from pyspark.sql.types import * \n",
    "import pyspark.sql.functions as F"
   ]
  },
  {
   "cell_type": "code",
   "execution_count": 4,
   "id": "4d0e49b2",
   "metadata": {},
   "outputs": [
    {
     "name": "stdout",
     "output_type": "stream",
     "text": [
      "/home/talentum/test-jupyter/test/PairRdd\r\n"
     ]
    }
   ],
   "source": [
    "!pwd"
   ]
  },
  {
   "cell_type": "markdown",
   "id": "708634b9",
   "metadata": {},
   "source": [
    "$$\n",
    "\\Large\\text{RDD}\n",
    "$$"
   ]
  },
  {
   "cell_type": "markdown",
   "id": "77ba9a2f",
   "metadata": {},
   "source": [
    "####  Finding the airlines with highest number of flights"
   ]
  },
  {
   "cell_type": "code",
   "execution_count": 5,
   "id": "55e63b00",
   "metadata": {},
   "outputs": [],
   "source": [
    "rdd = sc.textFile('file:///home/talentum/test-jupyter/test/PairRdd/flights.csv')"
   ]
  },
  {
   "cell_type": "code",
   "execution_count": 6,
   "id": "f0da47e1",
   "metadata": {},
   "outputs": [
    {
     "name": "stdout",
     "output_type": "stream",
     "text": [
      "[['1', '3', '4', '2003', '2211', 'WN', '335', 'N712SW', '128', '116', '-14', '8', 'IAD', 'TPA', '810', '4', '8', '0', '', '0'], ['1', '3', '4', '926', '1054', 'WN', '1746', 'N612SW', '88', '78', '-6', '-4', 'IND', 'BWI', '515', '3', '7', '0', '', '0'], ['1', '3', '4', '1940', '2121', 'WN', '378', 'N726SW', '101', '87', '11', '25', 'IND', 'JAX', '688', '4', '10', '0', '', '0'], ['1', '3', '4', '1937', '2037', 'WN', '509', 'N763SW', '240', '230', '57', '67', 'IND', 'LAS', '1591', '3', '7', '0', '', '0'], ['1', '3', '4', '754', '940', 'WN', '1144', 'N778SW', '226', '205', '-15', '9', 'IND', 'PHX', '1489', '5', '16', '0', '', '0']]\n"
     ]
    }
   ],
   "source": [
    "rdd = rdd.map(lambda line: line.split(','))\n",
    "print(rdd.take(5))"
   ]
  },
  {
   "cell_type": "code",
   "execution_count": 7,
   "id": "a228495a",
   "metadata": {},
   "outputs": [],
   "source": [
    "file_path = 'file:///home/talentum/test-jupyter/test/PairRdd/flights.csv' "
   ]
  },
  {
   "cell_type": "code",
   "execution_count": 8,
   "id": "16fec0c3",
   "metadata": {},
   "outputs": [
    {
     "name": "stdout",
     "output_type": "stream",
     "text": [
      "[('WN', 1), ('WN', 1), ('WN', 1), ('WN', 1), ('WN', 1)]\n"
     ]
    }
   ],
   "source": [
    "carrierRdd = sc.textFile(file_path)\\\n",
    "    .map(lambda val: val.split(\",\"))\\\n",
    "    .map(lambda column: (column[5], 1))\n",
    "\n",
    "print(carrierRdd.take(5))"
   ]
  },
  {
   "cell_type": "code",
   "execution_count": 9,
   "id": "ff1b59c9",
   "metadata": {},
   "outputs": [
    {
     "name": "stdout",
     "output_type": "stream",
     "text": [
      "[(356167, 'WN'), (175969, 'AA'), (166445, 'OO')]\n"
     ]
    }
   ],
   "source": [
    "carrierSorted = carrierRdd.reduceByKey(lambda x,y: x+y)\\\n",
    "    .map(lambda a: (a[1], a[0]))\\\n",
    "    .sortByKey(ascending=False)\n",
    "\n",
    "print(carrierSorted.take(3))"
   ]
  },
  {
   "cell_type": "markdown",
   "id": "8d58a4eb",
   "metadata": {},
   "source": [
    "#### 2. Determine the most common routes between two cities\n"
   ]
  },
  {
   "cell_type": "code",
   "execution_count": 10,
   "id": "29c329e0",
   "metadata": {},
   "outputs": [],
   "source": [
    "file_path = 'file:///home/talentum/test-jupyter/test/PairRdd/airports.csv' "
   ]
  },
  {
   "cell_type": "code",
   "execution_count": 11,
   "id": "e2e69c82",
   "metadata": {},
   "outputs": [
    {
     "name": "stdout",
     "output_type": "stream",
     "text": [
      "[['iata', 'airport', 'city', 'state', 'country', 'lat', 'long'], ['00M', 'Thigpen', 'BaySprings', 'MS', 'USA', '31.95376472', '-89.23450472'], ['00R', 'LivingstonMunicipal', 'Livingston', 'TX', 'USA', '30.68586111', '-95.01792778'], ['00V', 'MeadowLake', 'ColoradoSprings', 'CO', 'USA', '38.94574889', '-104.5698933'], ['01G', 'Perry-Warsaw', 'Perry', 'NY', 'USA', '42.74134667', '-78.05208056'], ['01J', 'HilliardAirpark', 'Hilliard', 'FL', 'USA', '30.6880125', '-81.90594389'], ['01M', 'TishomingoCounty', 'Belmont', 'MS', 'USA', '34.49166667', '-88.20111111'], ['02A', 'Gragg-Wade', 'Clanton', 'AL', 'USA', '32.85048667', '-86.61145333'], ['02C', 'Capitol', 'Brookfield', 'WI', 'USA', '43.08751', '-88.17786917'], ['02G', 'ColumbianaCounty', 'EastLiverpool', 'OH', 'USA', '40.67331278', '-80.64140639']]\n"
     ]
    }
   ],
   "source": [
    "rdd = sc.textFile(file_path)\n",
    "\n",
    "rdd = rdd.map(lambda line: line.split(','))\n",
    "print(rdd.take(10))"
   ]
  },
  {
   "cell_type": "code",
   "execution_count": 12,
   "id": "77a29cce",
   "metadata": {},
   "outputs": [
    {
     "name": "stdout",
     "output_type": "stream",
     "text": [
      "[('iata', 'city'), ('00M', 'BaySprings'), ('00R', 'Livingston'), ('00V', 'ColoradoSprings'), ('01G', 'Perry')]\n"
     ]
    }
   ],
   "source": [
    "cityRdd = sc.textFile(file_path)\\\n",
    "    .map(lambda val: val.split(','))\\\n",
    "    .map(lambda col: (col[0], col[2]))\n",
    "\n",
    "print(cityRdd.take(5))"
   ]
  },
  {
   "cell_type": "code",
   "execution_count": 13,
   "id": "97c6576b",
   "metadata": {},
   "outputs": [
    {
     "name": "stdout",
     "output_type": "stream",
     "text": [
      "[]\n"
     ]
    }
   ],
   "source": [
    "flightOrigDestRdd = sc.textFile(file_path)\\\n",
    "    .map(lambda val: val.split(','))\\\n",
    "    .filter(lambda col: len(col) > 13)\\\n",
    "    .map(lambda col: (col[12], col[13]))\n",
    "\n",
    "print(flightOrigDestRdd.take(5))"
   ]
  },
  {
   "cell_type": "code",
   "execution_count": 14,
   "id": "ef72bb49",
   "metadata": {},
   "outputs": [],
   "source": [
    "file_path = 'file:///home/talentum/test-jupyter/test/PairRdd/flights.csv' "
   ]
  },
  {
   "cell_type": "code",
   "execution_count": 15,
   "id": "9623c2b8",
   "metadata": {},
   "outputs": [
    {
     "name": "stdout",
     "output_type": "stream",
     "text": [
      "[('IAD', 'TPA'), ('IND', 'BWI'), ('IND', 'JAX'), ('IND', 'LAS'), ('IND', 'PHX'), ('ISP', 'FLL'), ('ISP', 'FLL'), ('ISP', 'FLL'), ('ISP', 'MCO'), ('ISP', 'MCO'), ('ISP', 'MCO'), ('ISP', 'PBI'), ('ISP', 'PBI'), ('ISP', 'PBI'), ('ISP', 'TPA'), ('JAN', 'HOU'), ('JAN', 'MCO'), ('JAN', 'MDW'), ('JAX', 'BNA'), ('JAX', 'BWI'), ('JAX', 'FLL'), ('JAX', 'FLL'), ('JAX', 'HOU'), ('JAX', 'IND'), ('JAX', 'PHL'), ('JAX', 'PHL'), ('LAS', 'ABQ'), ('LAS', 'AMA'), ('LAS', 'AUS'), ('LAS', 'BNA'), ('LAS', 'BNA'), ('LAS', 'BNA'), ('LAS', 'BUR'), ('LAS', 'BUR'), ('LAS', 'BWI'), ('LAS', 'DEN'), ('LAS', 'DEN'), ('LAS', 'DEN'), ('LAS', 'DEN'), ('LAS', 'ELP'), ('LAS', 'ELP'), ('LAS', 'HOU'), ('LAS', 'HOU'), ('LAS', 'LAX'), ('LAS', 'LAX'), ('LAS', 'LAX'), ('LAS', 'LAX'), ('LAS', 'LAX'), ('LAS', 'LIT'), ('LAS', 'MCI'), ('LAS', 'MCI'), ('LAS', 'MCI'), ('LAS', 'MDW'), ('LAS', 'MDW'), ('LAS', 'MDW'), ('LAS', 'MDW'), ('LAS', 'MDW'), ('LAS', 'OAK'), ('LAS', 'OAK'), ('LAS', 'OAK'), ('LAS', 'OAK'), ('LAS', 'OAK'), ('LAS', 'OAK'), ('LAS', 'OAK'), ('LAS', 'ONT'), ('LAS', 'ONT'), ('LAS', 'ONT'), ('LAS', 'ORF'), ('LAS', 'PHL'), ('LAS', 'PHX'), ('LAS', 'PHX'), ('LAS', 'PHX'), ('LAS', 'PHX'), ('LAS', 'PHX'), ('LAS', 'RDU'), ('LAS', 'RNO'), ('LAS', 'RNO'), ('LAS', 'SAN'), ('LAS', 'SAN'), ('LAS', 'SAN'), ('LAS', 'SAN'), ('LAS', 'SAN'), ('LAS', 'SAT'), ('LAS', 'SDF'), ('LAS', 'SEA'), ('LAS', 'SEA'), ('LAS', 'SEA'), ('LAS', 'SFO'), ('LAS', 'SJC'), ('LAS', 'SJC'), ('LAS', 'SJC'), ('LAS', 'SJC'), ('LAS', 'SLC'), ('LAS', 'SMF'), ('LAS', 'SMF'), ('LAS', 'SNA'), ('LAS', 'SNA'), ('LAS', 'STL'), ('LAS', 'TUL'), ('LAS', 'TUS')]\n"
     ]
    }
   ],
   "source": [
    "flightOrigDestRdd = sc.textFile(file_path).map(lambda val: val.split(',')).filter(lambda col: len(col) >= 13).map(lambda col: (col[12], col[13]))\n",
    "\n",
    "print(flightOrigDestRdd.take(100))"
   ]
  },
  {
   "cell_type": "code",
   "execution_count": 16,
   "id": "0ea69127",
   "metadata": {},
   "outputs": [
    {
     "name": "stdout",
     "output_type": "stream",
     "text": [
      "[('OAK', ('BOI', 'Oakland')), ('OAK', ('BUR', 'Oakland')), ('OAK', ('BUR', 'Oakland')), ('OAK', ('BUR', 'Oakland')), ('OAK', ('DEN', 'Oakland'))]\n"
     ]
    }
   ],
   "source": [
    "OrigJoinRdd = flightOrigDestRdd.join(cityRdd)\n",
    "\n",
    "print(OrigJoinRdd.take(5))"
   ]
  },
  {
   "cell_type": "code",
   "execution_count": 17,
   "id": "75d6ab83",
   "metadata": {},
   "outputs": [
    {
     "name": "stdout",
     "output_type": "stream",
     "text": [
      "[('ONT', (('LAS', 'Ontario'), 'Ontario')), ('ONT', (('LAS', 'Ontario'), 'Ontario')), ('ONT', (('OAK', 'Ontario'), 'Ontario')), ('ONT', (('OAK', 'Ontario'), 'Ontario')), ('ONT', (('OAK', 'Ontario'), 'Ontario'))]\n"
     ]
    }
   ],
   "source": [
    "destOrigJoinRdd = OrigJoinRdd.join(cityRdd)\n",
    "\n",
    "print(destOrigJoinRdd.take(5))"
   ]
  },
  {
   "cell_type": "code",
   "execution_count": 18,
   "id": "ddbc7005",
   "metadata": {},
   "outputs": [
    {
     "name": "stdout",
     "output_type": "stream",
     "text": [
      "[(('LAS', 'Ontario'), 'Ontario'), (('LAS', 'Ontario'), 'Ontario'), (('OAK', 'Ontario'), 'Ontario'), (('OAK', 'Ontario'), 'Ontario'), (('OAK', 'Ontario'), 'Ontario')]\n"
     ]
    }
   ],
   "source": [
    "citiesCleanedRdd = destOrigJoinRdd.values()\n",
    "\n",
    "print(citiesCleanedRdd.take(5))"
   ]
  },
  {
   "cell_type": "code",
   "execution_count": 19,
   "id": "7b864873",
   "metadata": {},
   "outputs": [
    {
     "name": "stdout",
     "output_type": "stream",
     "text": [
      "[((('LAS', 'Ontario'), 'Ontario'), 1), ((('LAS', 'Ontario'), 'Ontario'), 1), ((('OAK', 'Ontario'), 'Ontario'), 1), ((('OAK', 'Ontario'), 'Ontario'), 1), ((('OAK', 'Ontario'), 'Ontario'), 1)]\n"
     ]
    }
   ],
   "source": [
    "citiesKV = citiesCleanedRdd.map(lambda Cities: (Cities, 1))\n",
    "\n",
    "print(citiesKV.take(5))"
   ]
  },
  {
   "cell_type": "code",
   "execution_count": 20,
   "id": "7f9c5af7",
   "metadata": {},
   "outputs": [
    {
     "name": "stdout",
     "output_type": "stream",
     "text": [
      "[(5540, (('BOS', 'NewYork'), 'NewYork')), (4056, (('LAX', 'SanFrancisco'), 'SanFrancisco')), (4010, (('ORD', 'NewYork'), 'NewYork')), (3905, (('DAL', 'Houston'), 'Houston')), (3895, (('DCA', 'NewYork'), 'NewYork'))]\n"
     ]
    }
   ],
   "source": [
    "citiesReducedSortedRdd = citiesKV.reduceByKey(lambda x,y: x+y)\\\n",
    "    .map(lambda x: (x[1], x[0]))\\\n",
    "    .sortByKey(ascending=False)\n",
    "\n",
    "print(citiesReducedSortedRdd.take(5))"
   ]
  },
  {
   "cell_type": "markdown",
   "id": "1e5abf58",
   "metadata": {},
   "source": [
    "#### 3. Find the longest departure delays (15 min or more)\n"
   ]
  },
  {
   "cell_type": "code",
   "execution_count": 21,
   "id": "248a49c9",
   "metadata": {},
   "outputs": [],
   "source": [
    "file_path = 'file:///home/talentum/test-jupyter/test/PairRdd/flights.csv'"
   ]
  },
  {
   "cell_type": "code",
   "execution_count": 22,
   "id": "238f4113",
   "metadata": {},
   "outputs": [
    {
     "name": "stdout",
     "output_type": "stream",
     "text": [
      "[('WN', '25'), ('WN', '67'), ('WN', '87'), ('WN', '29'), ('WN', '82')]\n"
     ]
    }
   ],
   "source": [
    "delayRdd = sc.textFile(file_path) \\\n",
    "    .map(lambda val: val.split(',')) \\\n",
    "    .filter(lambda delay: int(delay[11]) > 15) \\\n",
    "    .map(lambda column: (column[5], column[11]))\n",
    "\n",
    "print(delayRdd.take(5))"
   ]
  },
  {
   "cell_type": "code",
   "execution_count": 23,
   "id": "12eb2675",
   "metadata": {},
   "outputs": [
    {
     "name": "stdout",
     "output_type": "stream",
     "text": [
      "[('XE', 781), ('YV', 526), ('OH', 680), ('OO', 767), ('UA', 1268)]\n"
     ]
    }
   ],
   "source": [
    "delayMaxRdd = delayRdd.reduceByKey(lambda x,y: max(int(x), int(y)))\n",
    "\n",
    "print(delayMaxRdd.take(5))"
   ]
  },
  {
   "cell_type": "markdown",
   "id": "a74f5771",
   "metadata": {},
   "source": [
    "#### 4. Remove the records that contain incomplete details\n",
    "\n"
   ]
  },
  {
   "cell_type": "code",
   "execution_count": 24,
   "id": "77aa8498",
   "metadata": {},
   "outputs": [],
   "source": [
    "file_path = 'file:///home/talentum/test-jupyter/test/PairRdd/plane-data.csv' "
   ]
  },
  {
   "cell_type": "code",
   "execution_count": 25,
   "id": "cd38f0bc",
   "metadata": {},
   "outputs": [
    {
     "name": "stdout",
     "output_type": "stream",
     "text": [
      "[['iata', 'airport', 'city', 'state', 'country', 'lat', 'long'], ['00M', 'Thigpen', 'BaySprings', 'MS', 'USA', '31.95376472', '-89.23450472'], ['00R', 'LivingstonMunicipal', 'Livingston', 'TX', 'USA', '30.68586111', '-95.01792778'], ['00V', 'MeadowLake', 'ColoradoSprings', 'CO', 'USA', '38.94574889', '-104.5698933'], ['01G', 'Perry-Warsaw', 'Perry', 'NY', 'USA', '42.74134667', '-78.05208056']]\n"
     ]
    }
   ],
   "source": [
    "rdd4 = sc.textFile(file_path)\n",
    "\n",
    "rdd4 = rdd4.filter(lambda line: len(line.split(',')) == expected_column_count)\n",
    "\n",
    "print(rdd.take(5))"
   ]
  },
  {
   "cell_type": "code",
   "execution_count": 26,
   "id": "f959b716",
   "metadata": {},
   "outputs": [
    {
     "name": "stdout",
     "output_type": "stream",
     "text": [
      "5030\n"
     ]
    }
   ],
   "source": [
    "planeDataRdd = sc.textFile(file_path)\n",
    "\n",
    "print(planeDataRdd.count())"
   ]
  },
  {
   "cell_type": "code",
   "execution_count": 27,
   "id": "0fb2c5d7",
   "metadata": {},
   "outputs": [
    {
     "name": "stdout",
     "output_type": "stream",
     "text": [
      "4481\n"
     ]
    }
   ],
   "source": [
    "cleanedPlaneDataRdd = planeDataRdd.map(lambda val: val.split(','))\\\n",
    "    .filter(lambda elements: len(elements) == 9)\n",
    "\n",
    "print(cleanedPlaneDataRdd.count())"
   ]
  },
  {
   "cell_type": "markdown",
   "id": "d1d812d5",
   "metadata": {},
   "source": [
    "$$\n",
    "\\Large\\text{DataFrame}\n",
    "$$"
   ]
  },
  {
   "cell_type": "markdown",
   "id": "171b12bf",
   "metadata": {},
   "source": [
    "#### Finding the airlines with highest number of flights"
   ]
  },
  {
   "cell_type": "code",
   "execution_count": 28,
   "id": "d260b568",
   "metadata": {},
   "outputs": [],
   "source": [
    "file_path = 'file:///home/talentum/test-jupyter/test/PairRdd/flights.csv'"
   ]
  },
  {
   "cell_type": "code",
   "execution_count": 29,
   "id": "922625f3",
   "metadata": {},
   "outputs": [
    {
     "name": "stdout",
     "output_type": "stream",
     "text": [
      "+---+---+---+----+----+---+----+------+---+---+----+----+----+----+----+----+----+----+----+----+\n",
      "|_c0|_c1|_c2| _c3| _c4|_c5| _c6|   _c7|_c8|_c9|_c10|_c11|_c12|_c13|_c14|_c15|_c16|_c17|_c18|_c19|\n",
      "+---+---+---+----+----+---+----+------+---+---+----+----+----+----+----+----+----+----+----+----+\n",
      "|  1|  3|  4|2003|2211| WN| 335|N712SW|128|116| -14|   8| IAD| TPA| 810|   4|   8|   0|null|   0|\n",
      "|  1|  3|  4| 926|1054| WN|1746|N612SW| 88| 78|  -6|  -4| IND| BWI| 515|   3|   7|   0|null|   0|\n",
      "|  1|  3|  4|1940|2121| WN| 378|N726SW|101| 87|  11|  25| IND| JAX| 688|   4|  10|   0|null|   0|\n",
      "|  1|  3|  4|1937|2037| WN| 509|N763SW|240|230|  57|  67| IND| LAS|1591|   3|   7|   0|null|   0|\n",
      "|  1|  3|  4| 754| 940| WN|1144|N778SW|226|205| -15|   9| IND| PHX|1489|   5|  16|   0|null|   0|\n",
      "+---+---+---+----+----+---+----+------+---+---+----+----+----+----+----+----+----+----+----+----+\n",
      "only showing top 5 rows\n",
      "\n"
     ]
    }
   ],
   "source": [
    "df = spark.read.csv(file_path)\n",
    "df.show(5)"
   ]
  },
  {
   "cell_type": "code",
   "execution_count": 30,
   "id": "2ee70158",
   "metadata": {},
   "outputs": [
    {
     "name": "stdout",
     "output_type": "stream",
     "text": [
      "+---+------+\n",
      "|_c5| count|\n",
      "+---+------+\n",
      "| WN|356167|\n",
      "| AA|175969|\n",
      "| OO|166445|\n",
      "+---+------+\n",
      "only showing top 3 rows\n",
      "\n"
     ]
    }
   ],
   "source": [
    "carrier_counts = df.select(df._c5)\\\n",
    "    .groupBy('_c5')\\\n",
    "    .agg(F.count('*').alias('count'))\\\n",
    "    .orderBy(F.desc('count'))\n",
    "\n",
    "carrier_counts.show(3)"
   ]
  },
  {
   "cell_type": "markdown",
   "id": "908137e9",
   "metadata": {},
   "source": [
    "#### 2. Determine the most common routes between two cities"
   ]
  },
  {
   "cell_type": "code",
   "execution_count": 31,
   "id": "3c637ae0",
   "metadata": {},
   "outputs": [],
   "source": [
    "airports_path = 'file:///home/talentum/test-jupyter/test/PairRdd/airports.csv'"
   ]
  },
  {
   "cell_type": "code",
   "execution_count": 32,
   "id": "0fdde3d3",
   "metadata": {},
   "outputs": [
    {
     "name": "stdout",
     "output_type": "stream",
     "text": [
      "+----+--------------------+------------------+-----+-------+-----------+------------+\n",
      "|iata|             airport|              city|state|country|        lat|        long|\n",
      "+----+--------------------+------------------+-----+-------+-----------+------------+\n",
      "| 00M|             Thigpen|        BaySprings|   MS|    USA|31.95376472|-89.23450472|\n",
      "| 00R| LivingstonMunicipal|        Livingston|   TX|    USA|30.68586111|-95.01792778|\n",
      "| 00V|          MeadowLake|   ColoradoSprings|   CO|    USA|38.94574889|-104.5698933|\n",
      "| 01G|        Perry-Warsaw|             Perry|   NY|    USA|42.74134667|-78.05208056|\n",
      "| 01J|     HilliardAirpark|          Hilliard|   FL|    USA| 30.6880125|-81.90594389|\n",
      "| 01M|    TishomingoCounty|           Belmont|   MS|    USA|34.49166667|-88.20111111|\n",
      "| 02A|          Gragg-Wade|           Clanton|   AL|    USA|32.85048667|-86.61145333|\n",
      "| 02C|             Capitol|        Brookfield|   WI|    USA|   43.08751|-88.17786917|\n",
      "| 02G|    ColumbianaCounty|     EastLiverpool|   OH|    USA|40.67331278|-80.64140639|\n",
      "| 03D|     MemphisMemorial|           Memphis|   MO|    USA|40.44725889|-92.22696056|\n",
      "| 04M|       CalhounCounty|         Pittsboro|   MS|    USA|33.93011222|-89.34285194|\n",
      "| 04Y|     HawleyMunicipal|            Hawley|   MN|    USA|46.88384889|-96.35089861|\n",
      "| 05C|Griffith-Merrillv...|          Griffith|   IN|    USA|41.51961917|-87.40109333|\n",
      "| 05F|Gatesville-City/C...|        Gatesville|   TX|    USA|31.42127556|-97.79696778|\n",
      "| 05U|              Eureka|            Eureka|   NV|    USA|39.60416667|-116.0050597|\n",
      "| 06A|      MotonMunicipal|          Tuskegee|   AL|    USA|32.46047167|-85.68003611|\n",
      "| 06C|          Schaumburg|Chicago/Schaumburg|   IL|    USA|41.98934083|-88.10124278|\n",
      "| 06D|      RollaMunicipal|             Rolla|   ND|    USA|48.88434111|-99.62087694|\n",
      "| 06M|     EuporaMunicipal|            Eupora|   MS|    USA|33.53456583|-89.31256917|\n",
      "| 06N|             Randall|        Middletown|   NY|    USA|41.43156583|-74.39191722|\n",
      "+----+--------------------+------------------+-----+-------+-----------+------------+\n",
      "only showing top 20 rows\n",
      "\n"
     ]
    }
   ],
   "source": [
    "airports_df = spark.read.csv(airports_path, header=True)\n",
    "airports_df.show()"
   ]
  },
  {
   "cell_type": "code",
   "execution_count": 33,
   "id": "e0ab23ce",
   "metadata": {},
   "outputs": [
    {
     "name": "stdout",
     "output_type": "stream",
     "text": [
      "+----+---------------+\n",
      "|iata|           city|\n",
      "+----+---------------+\n",
      "| 00M|     BaySprings|\n",
      "| 00R|     Livingston|\n",
      "| 00V|ColoradoSprings|\n",
      "| 01G|          Perry|\n",
      "| 01J|       Hilliard|\n",
      "+----+---------------+\n",
      "only showing top 5 rows\n",
      "\n"
     ]
    }
   ],
   "source": [
    "city_df = airports_df.select(\n",
    "    F.col(\"iata\").alias(\"iata\"),\n",
    "    F.col(\"city\").alias(\"city\")\n",
    ")\n",
    "city_df.show(5)"
   ]
  },
  {
   "cell_type": "code",
   "execution_count": 34,
   "id": "883d2ca2",
   "metadata": {},
   "outputs": [],
   "source": [
    "flights_path = 'file:///home/talentum/test-jupyter/test/PairRdd/flights.csv'"
   ]
  },
  {
   "cell_type": "code",
   "execution_count": 35,
   "id": "30f9672a",
   "metadata": {},
   "outputs": [],
   "source": [
    "flights_df = spark.read.csv(flights_path)"
   ]
  },
  {
   "cell_type": "code",
   "execution_count": 36,
   "id": "13c05060",
   "metadata": {},
   "outputs": [
    {
     "name": "stdout",
     "output_type": "stream",
     "text": [
      "+------+-----------+\n",
      "|origin|destination|\n",
      "+------+-----------+\n",
      "|   IAD|        TPA|\n",
      "|   IND|        BWI|\n",
      "|   IND|        JAX|\n",
      "|   IND|        LAS|\n",
      "|   IND|        PHX|\n",
      "+------+-----------+\n",
      "only showing top 5 rows\n",
      "\n"
     ]
    }
   ],
   "source": [
    "flight_orig_dest_df = flights_df.select(\n",
    "    F.col(\"_c12\").alias(\"origin\"),\n",
    "    F.col(\"_c13\").alias(\"destination\")\n",
    ")\n",
    "flight_orig_dest_df.show(5)\n"
   ]
  },
  {
   "cell_type": "code",
   "execution_count": 46,
   "id": "0b828f7f",
   "metadata": {},
   "outputs": [],
   "source": [
    "origin_joined_df = flight_orig_dest_df.join(\n",
    "    F.broadcast(city_df),\n",
    "    flight_orig_dest_df.origin == city_df.iata,\n",
    "    \"inner\"\n",
    ").select(\"destination\", \"city\").withColumnRenamed(\"city\", \"origin_city\")\n"
   ]
  },
  {
   "cell_type": "code",
   "execution_count": 49,
   "id": "34b4d46b",
   "metadata": {},
   "outputs": [],
   "source": [
    "dest_origin_joined_df = origin_joined_df.join(\n",
    "    F.broadcast(city_df),\n",
    "    origin_joined_df.destination == city_df.iata,\n",
    "    \"inner\"\n",
    ").select(\"origin_city\", \"city\").withColumnRenamed(\"city\", \"dest_city\")"
   ]
  },
  {
   "cell_type": "code",
   "execution_count": 50,
   "id": "b1cf82dc",
   "metadata": {},
   "outputs": [
    {
     "name": "stdout",
     "output_type": "stream",
     "text": [
      "+------------+----------+-----+\n",
      "| origin_city| dest_city|count|\n",
      "+------------+----------+-----+\n",
      "|     NewYork|    Boston| 5540|\n",
      "|      Boston|   NewYork| 5478|\n",
      "|     Chicago|   NewYork| 4103|\n",
      "|SanFrancisco|LosAngeles| 4056|\n",
      "|     NewYork|   Chicago| 4010|\n",
      "+------------+----------+-----+\n",
      "only showing top 5 rows\n",
      "\n"
     ]
    }
   ],
   "source": [
    "city_pairs_count = dest_origin_joined_df\\\n",
    "    .groupBy(\"origin_city\", \"dest_city\")\\\n",
    "    .agg(F.count(\"*\").alias(\"count\"))\\\n",
    "    .orderBy(F.desc(\"count\"))\n",
    "\n",
    "city_pairs_count.show(5)"
   ]
  },
  {
   "cell_type": "markdown",
   "id": "f7c7c4d1",
   "metadata": {},
   "source": [
    "#### 3. Find the longest departure delays (15 min or more)"
   ]
  },
  {
   "cell_type": "code",
   "execution_count": 40,
   "id": "33f1efea",
   "metadata": {},
   "outputs": [],
   "source": [
    "flights_df = spark.read.csv('file:///home/talentum/test-jupyter/test/PairRdd/flights.csv')"
   ]
  },
  {
   "cell_type": "code",
   "execution_count": 41,
   "id": "f6524970",
   "metadata": {},
   "outputs": [
    {
     "name": "stdout",
     "output_type": "stream",
     "text": [
      "Delays DataFrame:\n",
      "+----------+-----+\n",
      "|flight_num|delay|\n",
      "+----------+-----+\n",
      "|        WN|   25|\n",
      "|        WN|   67|\n",
      "|        WN|   87|\n",
      "|        WN|   29|\n",
      "|        WN|   82|\n",
      "+----------+-----+\n",
      "only showing top 5 rows\n",
      "\n"
     ]
    }
   ],
   "source": [
    "delays_df = flights_df.select(\n",
    "    F.col(\"_c5\").alias(\"flight_num\"),\n",
    "    F.col(\"_c11\").cast(IntegerType()).alias(\"delay\")\n",
    ").filter(F.col(\"delay\") > 15)\n",
    "print(\"Delays DataFrame:\")\n",
    "delays_df.show(5)"
   ]
  },
  {
   "cell_type": "code",
   "execution_count": 42,
   "id": "acd423aa",
   "metadata": {},
   "outputs": [
    {
     "name": "stdout",
     "output_type": "stream",
     "text": [
      "Maximum Delays DataFrame:\n",
      "+----------+---------+\n",
      "|flight_num|max_delay|\n",
      "+----------+---------+\n",
      "|        NW|     2457|\n",
      "|        AA|     1521|\n",
      "|        MQ|     1295|\n",
      "|        UA|     1268|\n",
      "|        9E|     1099|\n",
      "+----------+---------+\n",
      "only showing top 5 rows\n",
      "\n"
     ]
    }
   ],
   "source": [
    "max_delays_df = delays_df.groupBy(\"flight_num\").agg(F.max(\"delay\").alias(\"max_delay\")).orderBy(\"max_delay\", ascending=False)\n",
    "print(\"Maximum Delays DataFrame:\")\n",
    "max_delays_df.show(5)"
   ]
  },
  {
   "cell_type": "markdown",
   "id": "21da157f",
   "metadata": {},
   "source": [
    "#### 4. Remove the records that contain incomplete details"
   ]
  },
  {
   "cell_type": "code",
   "execution_count": 43,
   "id": "4b43c440",
   "metadata": {},
   "outputs": [],
   "source": [
    "file_path = 'file:///home/talentum/test-jupyter/test/PairRdd/plane-data.csv'"
   ]
  },
  {
   "cell_type": "code",
   "execution_count": 44,
   "id": "90f24f9d",
   "metadata": {},
   "outputs": [
    {
     "name": "stdout",
     "output_type": "stream",
     "text": [
      "Total plane records: 5029\n"
     ]
    }
   ],
   "source": [
    "plane_data_df = spark.read.csv(\n",
    "    file_path,\n",
    "    header=True,\n",
    "    inferSchema=True\n",
    ")\n",
    "print(\"Total plane records:\", plane_data_df.count())"
   ]
  },
  {
   "cell_type": "code",
   "execution_count": 45,
   "id": "a4a36e87",
   "metadata": {},
   "outputs": [
    {
     "data": {
      "text/plain": [
       "4480"
      ]
     },
     "execution_count": 45,
     "metadata": {},
     "output_type": "execute_result"
    }
   ],
   "source": [
    "filtered_df = plane_data_df.filter(\"type IS NOT NULL\")\n",
    "\n",
    "filtered_df.count()"
   ]
  }
 ],
 "metadata": {
  "kernelspec": {
   "display_name": "Python 3",
   "language": "python",
   "name": "python3"
  },
  "language_info": {
   "codemirror_mode": {
    "name": "ipython",
    "version": 3
   },
   "file_extension": ".py",
   "mimetype": "text/x-python",
   "name": "python",
   "nbconvert_exporter": "python",
   "pygments_lexer": "ipython3",
   "version": "3.6.9"
  }
 },
 "nbformat": 4,
 "nbformat_minor": 5
}
