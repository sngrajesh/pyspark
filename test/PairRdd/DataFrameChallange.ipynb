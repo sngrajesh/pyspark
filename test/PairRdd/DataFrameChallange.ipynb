{
 "cells": [
  {
   "cell_type": "code",
   "execution_count": 5,
   "id": "dbbd316f",
   "metadata": {},
   "outputs": [],
   "source": [
    "# Intialization\n",
    "import os\n",
    "import sys\n",
    "\n",
    "os.environ[\"SPARK_HOME\"] = \"/home/talentum/spark\"\n",
    "os.environ[\"PYLIB\"] = os.environ[\"SPARK_HOME\"] + \"/python/lib\"\n",
    "# In below two lines, use /usr/bin/python2.7 if you want to use Python 2\n",
    "os.environ[\"PYSPARK_PYTHON\"] = \"/usr/bin/python3.6\" \n",
    "os.environ[\"PYSPARK_DRIVER_PYTHON\"] = \"/usr/bin/python3\"\n",
    "sys.path.insert(0, os.environ[\"PYLIB\"] +\"/py4j-0.10.7-src.zip\")\n",
    "sys.path.insert(0, os.environ[\"PYLIB\"] +\"/pyspark.zip\")\n",
    "\n",
    "# NOTE: Whichever package you want mention here.\n",
    "# os.environ['PYSPARK_SUBMIT_ARGS'] = '--packages com.databricks:spark-xml_2.11:0.6.0 pyspark-shell' \n",
    "# os.environ['PYSPARK_SUBMIT_ARGS'] = '--packages org.apache.spark:spark-avro_2.11:2.4.0 pyspark-shell'\n",
    "os.environ['PYSPARK_SUBMIT_ARGS'] = '--packages com.databricks:spark-xml_2.11:0.6.0,org.apache.spark:spark-avro_2.11:2.4.3 pyspark-shell'\n",
    "# os.environ['PYSPARK_SUBMIT_ARGS'] = '--packages com.databricks:spark-xml_2.11:0.6.0,org.apache.spark:spark-avro_2.11:2.4.0 pyspark-shell'\n"
   ]
  },
  {
   "cell_type": "code",
   "execution_count": 4,
   "id": "f79aa35d",
   "metadata": {},
   "outputs": [],
   "source": [
    "from pyspark.sql import SparkSession\n",
    "spark = SparkSession.builder.appName(\"Spark SQL basic example\").enableHiveSupport().getOrCreate()\n",
    "\n",
    "sc = spark.sparkContext"
   ]
  },
  {
   "cell_type": "code",
   "execution_count": 9,
   "id": "449aa4f4",
   "metadata": {},
   "outputs": [
    {
     "name": "stdout",
     "output_type": "stream",
     "text": [
      "Flight Origin-Destination DataFrame:\n",
      "+------+-----------+\n",
      "|origin|destination|\n",
      "+------+-----------+\n",
      "|   IAD|        TPA|\n",
      "|   IND|        BWI|\n",
      "|   IND|        JAX|\n",
      "|   IND|        LAS|\n",
      "|   IND|        PHX|\n",
      "+------+-----------+\n",
      "only showing top 5 rows\n",
      "\n"
     ]
    }
   ],
   "source": [
    "import pyspark.sql.functions as F\n",
    "\n",
    "flights_df = spark.read.csv('file:///home/talentum/test-jupyter/test/PairRdd/flights.csv')\n",
    "flight_orig_dest_df = flights_df.select(\n",
    "    F.col(\"_c12\").alias(\"origin\"),\n",
    "    F.col(\"_c13\").alias(\"destination\")\n",
    ")\n",
    "print(\"Flight Origin-Destination DataFrame:\")\n",
    "flight_orig_dest_df.show(5)"
   ]
  },
  {
   "cell_type": "code",
   "execution_count": 11,
   "id": "20666bbc",
   "metadata": {},
   "outputs": [
    {
     "name": "stdout",
     "output_type": "stream",
     "text": [
      "Cities DataFrame:\n",
      "+------------+\n",
      "|airport_code|\n",
      "+------------+\n",
      "|         BGM|\n",
      "|         PSE|\n",
      "|         DLG|\n",
      "|         INL|\n",
      "|         MSY|\n",
      "+------------+\n",
      "only showing top 5 rows\n",
      "\n"
     ]
    }
   ],
   "source": [
    "cities_df = flights_df.select(\n",
    "    F.col(\"_c12\").alias(\"airport_code\")\n",
    ").union(\n",
    "    flights_df.select(\n",
    "        F.col(\"_c13\").alias(\"airport_code\")\n",
    "    )\n",
    ").distinct()\n",
    "\n",
    "print(\"Cities DataFrame:\")\n",
    "cities_df.show(5)"
   ]
  },
  {
   "cell_type": "code",
   "execution_count": 12,
   "id": "137896ac",
   "metadata": {},
   "outputs": [
    {
     "name": "stdout",
     "output_type": "stream",
     "text": [
      "Origin Join DataFrame:\n",
      "+------+-----------+------------+\n",
      "|origin|destination|airport_code|\n",
      "+------+-----------+------------+\n",
      "|   BGM|        DTW|         BGM|\n",
      "|   BGM|        DTW|         BGM|\n",
      "|   BGM|        DTW|         BGM|\n",
      "|   BGM|        DTW|         BGM|\n",
      "|   BGM|        DTW|         BGM|\n",
      "+------+-----------+------------+\n",
      "only showing top 5 rows\n",
      "\n"
     ]
    }
   ],
   "source": [
    "orig_join_df = flight_orig_dest_df.join(\n",
    "    cities_df,\n",
    "    flight_orig_dest_df.origin == cities_df.airport_code\n",
    ")\n",
    "print(\"Origin Join DataFrame:\")\n",
    "orig_join_df.show(5)"
   ]
  },
  {
   "cell_type": "code",
   "execution_count": 13,
   "id": "e26e0797",
   "metadata": {},
   "outputs": [
    {
     "name": "stdout",
     "output_type": "stream",
     "text": [
      "Cities Count DataFrame:\n",
      "+-----------+------+\n",
      "|destination| count|\n",
      "+-----------+------+\n",
      "|        ATL|122096|\n",
      "|        ORD| 99709|\n",
      "|        DFW| 81532|\n",
      "|        DEN| 71347|\n",
      "|        LAX| 63682|\n",
      "+-----------+------+\n",
      "only showing top 5 rows\n",
      "\n"
     ]
    }
   ],
   "source": [
    "cities_count_df = flight_orig_dest_df.groupBy(\"destination\").count().orderBy(\"count\", ascending=False)\n",
    "print(\"Cities Count DataFrame:\")\n",
    "cities_count_df.show(5)"
   ]
  },
  {
   "cell_type": "code",
   "execution_count": 16,
   "id": "e36094fb",
   "metadata": {},
   "outputs": [
    {
     "name": "stdout",
     "output_type": "stream",
     "text": [
      "Delays DataFrame:\n",
      "+----------+-----+\n",
      "|flight_num|delay|\n",
      "+----------+-----+\n",
      "|        WN|   25|\n",
      "|        WN|   67|\n",
      "|        WN|   87|\n",
      "|        WN|   29|\n",
      "|        WN|   82|\n",
      "+----------+-----+\n",
      "only showing top 5 rows\n",
      "\n"
     ]
    }
   ],
   "source": [
    "from pyspark.sql.types import *\n",
    "\n",
    "delays_df = flights_df.select(\n",
    "    F.col(\"_c5\").alias(\"flight_num\"),\n",
    "    F.col(\"_c11\").cast(IntegerType()).alias(\"delay\")\n",
    ").filter(F.col(\"delay\") > 15)\n",
    "print(\"Delays DataFrame:\")\n",
    "delays_df.show(5)\n"
   ]
  },
  {
   "cell_type": "code",
   "execution_count": 20,
   "id": "84a2b2e2",
   "metadata": {},
   "outputs": [
    {
     "name": "stdout",
     "output_type": "stream",
     "text": [
      "Maximum Delays DataFrame:\n",
      "+----------+---------+\n",
      "|flight_num|max_delay|\n",
      "+----------+---------+\n",
      "|        NW|     2457|\n",
      "|        AA|     1521|\n",
      "|        MQ|     1295|\n",
      "|        UA|     1268|\n",
      "|        9E|     1099|\n",
      "+----------+---------+\n",
      "only showing top 5 rows\n",
      "\n"
     ]
    }
   ],
   "source": [
    "max_delays_df = delays_df.groupBy(\"flight_num\").agg(F.max(\"delay\").alias(\"max_delay\")).orderBy(\"max_delay\", ascending=False)\n",
    "print(\"Maximum Delays DataFrame:\")\n",
    "max_delays_df.show(5)"
   ]
  },
  {
   "cell_type": "code",
   "execution_count": 41,
   "id": "80111e62",
   "metadata": {},
   "outputs": [
    {
     "name": "stdout",
     "output_type": "stream",
     "text": [
      "Total plane records: 5029\n"
     ]
    }
   ],
   "source": [
    "plane_data_df = spark.read.csv(\n",
    "    'file:///home/talentum/test-jupyter/test/PairRdd/plane-data.csv',\n",
    "    header=True, \n",
    "    inferSchema=True\n",
    ")\n",
    "print(\"Total plane records:\", plane_data_df.count())"
   ]
  },
  {
   "cell_type": "code",
   "execution_count": 45,
   "id": "0933289e",
   "metadata": {},
   "outputs": [
    {
     "data": {
      "text/plain": [
       "4480"
      ]
     },
     "execution_count": 45,
     "metadata": {},
     "output_type": "execute_result"
    }
   ],
   "source": [
    "filtered_df = plane_data_df.filter(\"type IS NOT NULL\")\n",
    "\n",
    "filtered_df.count()"
   ]
  }
 ],
 "metadata": {
  "kernelspec": {
   "display_name": "Python 3",
   "language": "python",
   "name": "python3"
  },
  "language_info": {
   "codemirror_mode": {
    "name": "ipython",
    "version": 3
   },
   "file_extension": ".py",
   "mimetype": "text/x-python",
   "name": "python",
   "nbconvert_exporter": "python",
   "pygments_lexer": "ipython3",
   "version": "3.6.9"
  }
 },
 "nbformat": 4,
 "nbformat_minor": 5
}
