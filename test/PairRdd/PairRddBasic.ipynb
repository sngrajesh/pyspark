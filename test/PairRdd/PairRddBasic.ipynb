{
 "cells": [
  {
   "cell_type": "code",
   "execution_count": 3,
   "id": "0c425171",
   "metadata": {},
   "outputs": [],
   "source": [
    "# Intialization\n",
    "import os\n",
    "import sys\n",
    "\n",
    "os.environ[\"SPARK_HOME\"] = \"/home/talentum/spark\"\n",
    "os.environ[\"PYLIB\"] = os.environ[\"SPARK_HOME\"] + \"/python/lib\"\n",
    "# In below two lines, use /usr/bin/python2.7 if you want to use Python 2\n",
    "os.environ[\"PYSPARK_PYTHON\"] = \"/usr/bin/python3.6\" \n",
    "os.environ[\"PYSPARK_DRIVER_PYTHON\"] = \"/usr/bin/python3\"\n",
    "sys.path.insert(0, os.environ[\"PYLIB\"] +\"/py4j-0.10.7-src.zip\")\n",
    "sys.path.insert(0, os.environ[\"PYLIB\"] +\"/pyspark.zip\")\n",
    "\n",
    "# NOTE: Whichever package you want mention here.\n",
    "# os.environ['PYSPARK_SUBMIT_ARGS'] = '--packages com.databricks:spark-xml_2.11:0.6.0 pyspark-shell' \n",
    "# os.environ['PYSPARK_SUBMIT_ARGS'] = '--packages org.apache.spark:spark-avro_2.11:2.4.0 pyspark-shell'\n",
    "os.environ['PYSPARK_SUBMIT_ARGS'] = '--packages com.databricks:spark-xml_2.11:0.6.0,org.apache.spark:spark-avro_2.11:2.4.3 pyspark-shell'\n",
    "# os.environ['PYSPARK_SUBMIT_ARGS'] = '--packages com.databricks:spark-xml_2.11:0.6.0,org.apache.spark:spark-avro_2.11:2.4.0 pyspark-shell'"
   ]
  },
  {
   "cell_type": "code",
   "execution_count": 4,
   "id": "a776f310",
   "metadata": {},
   "outputs": [],
   "source": [
    "from pyspark.sql import SparkSession\n",
    "spark = SparkSession.builder.appName(\"Spark SQL basic example\").enableHiveSupport().getOrCreate()\n",
    "\n",
    "sc = spark.sparkContext"
   ]
  },
  {
   "cell_type": "code",
   "execution_count": 8,
   "id": "67e9bd37",
   "metadata": {},
   "outputs": [
    {
     "name": "stdout",
     "output_type": "stream",
     "text": [
      "[('JAN', 0), ('FEB', 1), ('MAR', 2), ('APR', 3), ('MAY', 4), ('JUN', 5), ('JUL', 6)]\n"
     ]
    }
   ],
   "source": [
    "months = (\"JAN\",\"FEB\",\"MAR\",\"APR\",\"MAY\",\"JUN\",\"JUL\")\n",
    "monthsRdd = sc.parallelize(months)\n",
    "monthsIndexed0Rdd = monthsRdd.zipWithIndex()\n",
    "\n",
    "print(monthsIndexed0Rdd.collect())"
   ]
  },
  {
   "cell_type": "code",
   "execution_count": 9,
   "id": "c0271b92",
   "metadata": {},
   "outputs": [
    {
     "name": "stdout",
     "output_type": "stream",
     "text": [
      "[('JAN', 1), ('FEB', 2), ('MAR', 3), ('APR', 4), ('MAY', 5), ('JUN', 6), ('JUL', 7)]\n"
     ]
    }
   ],
   "source": [
    "monthsIndexed1Rdd = monthsIndexed0Rdd.map(lambda x: (x[0], x[1] + 1))\n",
    " \n",
    "print(monthsIndexed1Rdd.collect())"
   ]
  },
  {
   "cell_type": "code",
   "execution_count": 10,
   "id": "25d9d7f2",
   "metadata": {},
   "outputs": [
    {
     "name": "stdout",
     "output_type": "stream",
     "text": [
      "[('JAN', 2), ('FEB', 3), ('MAR', 4), ('APR', 5), ('MAY', 6), ('JUN', 7), ('JUL', 8)]\n"
     ]
    }
   ],
   "source": [
    "monthsIndexed2Rdd = monthsIndexed1Rdd.mapValues(lambda y: y + 1)\n",
    "\n",
    "print(monthsIndexed2Rdd.collect())"
   ]
  },
  {
   "cell_type": "code",
   "execution_count": 11,
   "id": "d6dcbbef",
   "metadata": {},
   "outputs": [
    {
     "name": "stdout",
     "output_type": "stream",
     "text": [
      "[('JAN', 1), ('FEB', 1), ('MAR', 1), ('APR', 2), ('MAY', 2), ('JUN', 2), ('JUL', 3)]\n"
     ]
    }
   ],
   "source": [
    "quarters = (1, 1, 1, 2, 2, 2, 3)\n",
    "quartersRdd = sc.parallelize(quarters)\n",
    "monthsZipQuarters = monthsRdd.zip(quartersRdd)\n",
    "\n",
    "print(monthsZipQuarters.collect())"
   ]
  },
  {
   "cell_type": "code",
   "execution_count": 12,
   "id": "89cb7d8c",
   "metadata": {},
   "outputs": [
    {
     "name": "stdout",
     "output_type": "stream",
     "text": [
      "['JAN', 'FEB', 'MAR', 'APR', 'MAY', 'JUN', 'JUL']\n",
      "[1, 1, 1, 2, 2, 2, 3]\n",
      "[('APR', 2), ('FEB', 1), ('JAN', 1), ('JUL', 3), ('JUN', 2), ('MAR', 1), ('MAY', 2)]\n"
     ]
    }
   ],
   "source": [
    "print(monthsZipQuarters.keys().collect())\n",
    "print(monthsZipQuarters.values().collect())\n",
    "print(monthsZipQuarters.sortByKey().collect())\n"
   ]
  },
  {
   "cell_type": "code",
   "execution_count": 13,
   "id": "5f05a58a",
   "metadata": {},
   "outputs": [
    {
     "name": "stdout",
     "output_type": "stream",
     "text": [
      "['EVERY', 'afternoon,', 'as', 'they', 'were']\n"
     ]
    }
   ],
   "source": [
    "splitRdd = sc.textFile('file:////home/talentum/test-jupyter/test/PairRdd/selfishgiant.txt').flatMap(lambda line: line.split(' '))\n",
    "print(splitRdd.take(5))"
   ]
  },
  {
   "cell_type": "code",
   "execution_count": 14,
   "id": "23f2a4b1",
   "metadata": {},
   "outputs": [
    {
     "name": "stdout",
     "output_type": "stream",
     "text": [
      "[('EVERY', 1), ('afternoon,', 1), ('as', 1), ('they', 1), ('were', 1)]\n"
     ]
    }
   ],
   "source": [
    "mappedRdd = splitRdd.map(lambda word: (word,1))\n",
    "\n",
    "print(mappedRdd.take(5))"
   ]
  },
  {
   "cell_type": "code",
   "execution_count": 15,
   "id": "a16133d9",
   "metadata": {},
   "outputs": [
    {
     "name": "stdout",
     "output_type": "stream",
     "text": [
      "[('EVERY', 1), ('afternoon,', 3), ('as', 9), ('they', 17), ('were', 21)]\n"
     ]
    }
   ],
   "source": [
    "reducedByKeyRdd = mappedRdd.reduceByKey(lambda x,y : x+y)\n",
    "\n",
    "print(reducedByKeyRdd.take(5))"
   ]
  },
  {
   "cell_type": "code",
   "execution_count": 16,
   "id": "673eabb6",
   "metadata": {},
   "outputs": [
    {
     "name": "stdout",
     "output_type": "stream",
     "text": [
      "[(1, 'EVERY'), (3, 'afternoon,'), (9, 'as'), (17, 'they'), (21, 'were')]\n"
     ]
    }
   ],
   "source": [
    "flippedRdd = reducedByKeyRdd.map(lambda x: (x[1], x[0]))\n",
    "\n",
    "print(flippedRdd.take(5))"
   ]
  },
  {
   "cell_type": "code",
   "execution_count": 17,
   "id": "bcefc56c",
   "metadata": {},
   "outputs": [
    {
     "name": "stdout",
     "output_type": "stream",
     "text": [
      "[(148, 'the'), (85, 'and'), (44, 'he'), (38, 'to'), (33, '')]\n"
     ]
    }
   ],
   "source": [
    "orderedRdd = flippedRdd.sortByKey(ascending=False)\n",
    "\n",
    "print(orderedRdd.take(5))"
   ]
  },
  {
   "cell_type": "code",
   "execution_count": null,
   "id": "a5db21bd",
   "metadata": {},
   "outputs": [],
   "source": []
  }
 ],
 "metadata": {
  "kernelspec": {
   "display_name": "Python 3",
   "language": "python",
   "name": "python3"
  },
  "language_info": {
   "codemirror_mode": {
    "name": "ipython",
    "version": 3
   },
   "file_extension": ".py",
   "mimetype": "text/x-python",
   "name": "python",
   "nbconvert_exporter": "python",
   "pygments_lexer": "ipython3",
   "version": "3.6.9"
  }
 },
 "nbformat": 4,
 "nbformat_minor": 5
}
