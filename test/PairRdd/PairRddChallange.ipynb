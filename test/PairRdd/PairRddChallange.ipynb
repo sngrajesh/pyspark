{
 "cells": [
  {
   "cell_type": "code",
   "execution_count": 1,
   "id": "930feeb8",
   "metadata": {},
   "outputs": [],
   "source": [
    "# Intialization\n",
    "import os\n",
    "import sys\n",
    "\n",
    "os.environ[\"SPARK_HOME\"] = \"/home/talentum/spark\"\n",
    "os.environ[\"PYLIB\"] = os.environ[\"SPARK_HOME\"] + \"/python/lib\"\n",
    "# In below two lines, use /usr/bin/python2.7 if you want to use Python 2\n",
    "os.environ[\"PYSPARK_PYTHON\"] = \"/usr/bin/python3.6\" \n",
    "os.environ[\"PYSPARK_DRIVER_PYTHON\"] = \"/usr/bin/python3\"\n",
    "sys.path.insert(0, os.environ[\"PYLIB\"] +\"/py4j-0.10.7-src.zip\")\n",
    "sys.path.insert(0, os.environ[\"PYLIB\"] +\"/pyspark.zip\")\n",
    "\n",
    "# NOTE: Whichever package you want mention here.\n",
    "# os.environ['PYSPARK_SUBMIT_ARGS'] = '--packages com.databricks:spark-xml_2.11:0.6.0 pyspark-shell' \n",
    "# os.environ['PYSPARK_SUBMIT_ARGS'] = '--packages org.apache.spark:spark-avro_2.11:2.4.0 pyspark-shell'\n",
    "os.environ['PYSPARK_SUBMIT_ARGS'] = '--packages com.databricks:spark-xml_2.11:0.6.0,org.apache.spark:spark-avro_2.11:2.4.3 pyspark-shell'\n",
    "# os.environ['PYSPARK_SUBMIT_ARGS'] = '--packages com.databricks:spark-xml_2.11:0.6.0,org.apache.spark:spark-avro_2.11:2.4.0 pyspark-shell'\n"
   ]
  },
  {
   "cell_type": "code",
   "execution_count": 2,
   "id": "78fc6d6a",
   "metadata": {},
   "outputs": [],
   "source": [
    "from pyspark.sql import SparkSession\n",
    "spark = SparkSession.builder.appName(\"Spark SQL basic example\").enableHiveSupport().getOrCreate()\n",
    "\n",
    "sc = spark.sparkContext"
   ]
  },
  {
   "cell_type": "code",
   "execution_count": 3,
   "id": "4e907d34",
   "metadata": {},
   "outputs": [
    {
     "name": "stdout",
     "output_type": "stream",
     "text": [
      "1,3,4,2003,2211,WN,335,N712SW,128,116,-14,8,IAD,TPA,810,4,8,0,,0\r\n",
      "1,3,4,926,1054,WN,1746,N612SW,88,78,-6,-4,IND,BWI,515,3,7,0,,0\r\n",
      "1,3,4,1940,2121,WN,378,N726SW,101,87,11,25,IND,JAX,688,4,10,0,,0\r\n",
      "1,3,4,1937,2037,WN,509,N763SW,240,230,57,67,IND,LAS,1591,3,7,0,,0\r\n",
      "1,3,4,754,940,WN,1144,N778SW,226,205,-15,9,IND,PHX,1489,5,16,0,,0\r\n",
      "1,3,4,1422,1657,WN,188,N215WN,155,143,47,87,ISP,FLL,1093,6,6,0,,0\r\n",
      "1,3,4,1954,2239,WN,1754,N243WN,165,155,4,29,ISP,FLL,1093,3,7,0,,0\r\n",
      "1,3,4,636,921,WN,2275,N454WN,165,147,-24,1,ISP,FLL,1093,5,13,0,,0\r\n",
      "1,3,4,2107,2334,WN,362,N798SW,147,134,64,82,ISP,MCO,972,6,7,0,,0\r\n",
      "1,3,4,1312,1546,WN,1397,N247WN,154,140,-4,12,ISP,MCO,972,7,7,0,,0\r\n"
     ]
    }
   ],
   "source": [
    "!head ./flights.csv\n"
   ]
  },
  {
   "cell_type": "code",
   "execution_count": 4,
   "id": "7d287b28",
   "metadata": {},
   "outputs": [
    {
     "name": "stdout",
     "output_type": "stream",
     "text": [
      "/home/talentum/test-jupyter/test/PairRdd\r\n"
     ]
    }
   ],
   "source": [
    "!pwd"
   ]
  },
  {
   "cell_type": "code",
   "execution_count": 5,
   "id": "8c2852a6",
   "metadata": {},
   "outputs": [],
   "source": [
    "file_path = 'file:///home/talentum/test-jupyter/test/PairRdd/flights.csv'\n",
    "rdd = sc.textFile(file_path)"
   ]
  },
  {
   "cell_type": "code",
   "execution_count": 6,
   "id": "ea39bd95",
   "metadata": {},
   "outputs": [],
   "source": [
    "parsedRdd = rdd.map(lambda line: line.split(\",\"))"
   ]
  },
  {
   "cell_type": "code",
   "execution_count": 7,
   "id": "49e6045f",
   "metadata": {},
   "outputs": [
    {
     "name": "stdout",
     "output_type": "stream",
     "text": [
      "Flight Origin-Destination RDD:\n",
      "[('IAD', 'TPA'), ('IND', 'BWI'), ('IND', 'JAX'), ('IND', 'LAS'), ('IND', 'PHX')]\n"
     ]
    }
   ],
   "source": [
    "flightOrigDestRdd = parsedRdd.map(lambda columns: (columns[12], columns[13]))  # (origin, destination)\n",
    "print(\"Flight Origin-Destination RDD:\")\n",
    "print(flightOrigDestRdd.take(5))"
   ]
  },
  {
   "cell_type": "code",
   "execution_count": 8,
   "id": "60766536",
   "metadata": {},
   "outputs": [
    {
     "name": "stdout",
     "output_type": "stream",
     "text": [
      "City RDD:\n",
      "[('IAD', 'IAD'), ('TPA', 'TPA'), ('IND', 'IND'), ('BWI', 'BWI'), ('IND', 'IND')]\n"
     ]
    }
   ],
   "source": [
    "cityRdd = parsedRdd.flatMap(lambda columns: [(columns[12], columns[12]), (columns[13], columns[13])])  # (code, code)\n",
    "print(\"City RDD:\")\n",
    "print(cityRdd.take(5))"
   ]
  },
  {
   "cell_type": "code",
   "execution_count": 9,
   "id": "09d3581d",
   "metadata": {},
   "outputs": [
    {
     "name": "stdout",
     "output_type": "stream",
     "text": [
      "Origin Join RDD:\n",
      "[('LAS', ('ABQ', 'LAS')), ('LAS', ('ABQ', 'LAS')), ('LAS', ('ABQ', 'LAS')), ('LAS', ('ABQ', 'LAS')), ('LAS', ('ABQ', 'LAS'))]\n"
     ]
    }
   ],
   "source": [
    "origJoinRdd = flightOrigDestRdd.join(cityRdd)  # Join based on airport codes\n",
    "print(\"Origin Join RDD:\")\n",
    "print(origJoinRdd.take(5))"
   ]
  },
  {
   "cell_type": "code",
   "execution_count": 10,
   "id": "2f6c85dc",
   "metadata": {},
   "outputs": [
    {
     "name": "stdout",
     "output_type": "stream",
     "text": [
      "Cleaned Cities RDD:\n",
      "[('ABQ', 'LAS'), ('ABQ', 'LAS'), ('ABQ', 'LAS'), ('ABQ', 'LAS'), ('ABQ', 'LAS')]\n"
     ]
    }
   ],
   "source": [
    "citiesCleanedRdd = origJoinRdd.values()  # Extract joined values\n",
    "print(\"Cleaned Cities RDD:\")\n",
    "print(citiesCleanedRdd.take(5))"
   ]
  },
  {
   "cell_type": "code",
   "execution_count": 11,
   "id": "6f08620f",
   "metadata": {},
   "outputs": [
    {
     "name": "stdout",
     "output_type": "stream",
     "text": [
      "Cities Key-Value RDD:\n",
      "[(('ABQ', 'LAS'), 1), (('ABQ', 'LAS'), 1), (('ABQ', 'LAS'), 1), (('ABQ', 'LAS'), 1), (('ABQ', 'LAS'), 1)]\n"
     ]
    }
   ],
   "source": [
    "citiesKV = citiesCleanedRdd.map(lambda city: (city, 1))\n",
    "print(\"Cities Key-Value RDD:\")\n",
    "print(citiesKV.take(5))"
   ]
  },
  {
   "cell_type": "code",
   "execution_count": null,
   "id": "c54079ae",
   "metadata": {},
   "outputs": [],
   "source": [
    "citiesReduceSortedRdd = citiesKV.reduceByKey(lambda x, y: x + y).map(lambda x: (x[1], x[0])).sortByKey(ascending=False)\n",
    "print(\"Reduced and Sorted Cities RDD:\")\n",
    "print(citiesReduceSortedRdd.take(5))"
   ]
  },
  {
   "cell_type": "code",
   "execution_count": 4,
   "id": "c3da4283",
   "metadata": {},
   "outputs": [
    {
     "data": {
      "text/plain": [
       "[('WN', '25'), ('WN', '67'), ('WN', '87'), ('WN', '29'), ('WN', '82')]"
      ]
     },
     "execution_count": 4,
     "metadata": {},
     "output_type": "execute_result"
    }
   ],
   "source": [
    "file_path = 'file:///home/talentum/test-jupyter/test/PairRdd/flights.csv'\n",
    "delayRDD = sc.textFile(file_path).map(\n",
    "    lambda val: val.split(',')\n",
    ").filter(\n",
    "    lambda delay: int(delay[11])> 15\n",
    ").map(\n",
    "    lambda column: (column[5], column[11]) \n",
    ")\n",
    "\n",
    "delayRDD.take(5)"
   ]
  },
  {
   "cell_type": "code",
   "execution_count": 5,
   "id": "3031403e",
   "metadata": {},
   "outputs": [
    {
     "data": {
      "text/plain": [
       "[('XE', 781), ('YV', 526), ('OH', 680), ('OO', 767), ('UA', 1268)]"
      ]
     },
     "execution_count": 5,
     "metadata": {},
     "output_type": "execute_result"
    }
   ],
   "source": [
    "delayMaxRDD = delayRDD.reduceByKey(\n",
    "    lambda x,y: max(int(x), int(y))\n",
    ")\n",
    "\n",
    "delayMaxRDD.take(5)"
   ]
  },
  {
   "cell_type": "code",
   "execution_count": 6,
   "id": "50bd46c4",
   "metadata": {},
   "outputs": [
    {
     "data": {
      "text/plain": [
       "5030"
      ]
     },
     "execution_count": 6,
     "metadata": {},
     "output_type": "execute_result"
    }
   ],
   "source": [
    "file_path = 'file:///home/talentum/test-jupyter/test/PairRdd/plane-data.csv'\n",
    "plabeDataRdd = sc.textFile(file_path) \n",
    "plabeDataRdd.count()"
   ]
  },
  {
   "cell_type": "code",
   "execution_count": 7,
   "id": "60e4aa47",
   "metadata": {},
   "outputs": [
    {
     "data": {
      "text/plain": [
       "4481"
      ]
     },
     "execution_count": 7,
     "metadata": {},
     "output_type": "execute_result"
    }
   ],
   "source": [
    "cleanPlabeDataRdd = plabeDataRdd.map(\n",
    "    lambda val: val.split(',')\n",
    ").filter(\n",
    "    lambda element: len(element)==9\n",
    ")\n",
    "\n",
    "cleanPlabeDataRdd.count()"
   ]
  }
 ],
 "metadata": {
  "kernelspec": {
   "display_name": "Python 3",
   "language": "python",
   "name": "python3"
  },
  "language_info": {
   "codemirror_mode": {
    "name": "ipython",
    "version": 3
   },
   "file_extension": ".py",
   "mimetype": "text/x-python",
   "name": "python",
   "nbconvert_exporter": "python",
   "pygments_lexer": "ipython3",
   "version": "3.6.9"
  }
 },
 "nbformat": 4,
 "nbformat_minor": 5
}
